{
 "cells": [
  {
   "cell_type": "code",
   "execution_count": 1,
   "metadata": {},
   "outputs": [],
   "source": [
    "#Download data by using twint\n",
    "#Data on Berkshire hathaway before pandemic were downloaded by comands typed in terminal:\n",
    "#twint -s \"Berkshire hataway\" --csv -o BH_tweets_before_pandemic_part1.csv --since 2018-07-01 --until 2018-10-01\n",
    "#twint -s \"Berkshire hataway\" --csv -o BH_tweets_before_pandemic_part2.csv --since 2018-04-01 --until 2018-07-01\n",
    "\n",
    "#during pandemic:\n",
    "#twint -s \"Berkshire hataway\" --csv -o BH_tweets_during_pandemic_part1.csv --since 2020-07-01 --until 2020-10-01\n",
    "#twint -s \"Berkshire hataway\" --csv -o BH_tweets_during_pandemic_part2.csv --since 2020-04-01 --until 2020-07-01\n",
    "\n",
    "#during war:\n",
    "#twint -s \"Berkshire hataway\" --csv -o BH_tweets_during_war_part1.csv --since 2022-03-08 --until 2022-04-01\n",
    "#twint -s \"Berkshire hataway\" --csv -o BH_tweets_during_war_part2.csv --since 2022-02-23 --until 2022-03-09\n",
    "#twint -s \"Berkshire hataway\" --csv -o BH_tweets_during_war_part3.csv --since 2022-02-23 --until \"2022-02-23 11:05:00\"\n",
    "#twint -s \"Berkshire hataway\" --csv -o BH_tweets_during_war_part4.csv --since 2021-11-23 --until \"2022-02-23 06:17:00\"\n",
    "#twint -s \"Berkshire hataway\" --csv -o BH_tweets_during_war_part5.csv --since 2021-09-01 --until 2021-11-24"
   ]
  },
  {
   "cell_type": "code",
   "execution_count": 2,
   "metadata": {},
   "outputs": [],
   "source": [
    "import pandas as pd\n",
    "\n",
    "#Merged parts of tweets about Berkshire hathaway before pandemic\n",
    "\n",
    "BH_tweets_before_pandemic_part1 = pd.read_csv('dane/BH_tweets_before_pandemic_part1.csv', sep = '\\t')\n",
    "BH_tweets_before_pandemic_part2 = pd.read_csv('dane/BH_tweets_before_pandemic_part2.csv', sep = '\\t')\n",
    "\n",
    "BH_tweets_before_pandemic = pd.concat([BH_tweets_before_pandemic_part1, BH_tweets_before_pandemic_part2])\n",
    "\n",
    "BH_tweets_before_pandemic = BH_tweets_before_pandemic.drop_duplicates(ignore_index = True, subset = 'id')\n",
    "\n",
    "BH_tweets_before_pandemic.to_csv('dane/BH_tweets_before_pandemic.csv', index = False)"
   ]
  },
  {
   "cell_type": "code",
   "execution_count": 3,
   "metadata": {},
   "outputs": [],
   "source": [
    "#Merged parts of tweets about Berkshire hathaway during pandemic\n",
    "\n",
    "BH_tweets_during_pandemic_part1 = pd.read_csv('dane/BH_tweets_during_pandemic_part1.csv', sep = '\\t')\n",
    "BH_tweets_during_pandemic_part2 = pd.read_csv('dane/BH_tweets_during_pandemic_part2.csv', sep = '\\t')\n",
    "\n",
    "BH_tweets_during_pandemic = pd.concat([BH_tweets_during_pandemic_part1, BH_tweets_during_pandemic_part2])\n",
    "\n",
    "BH_tweets_during_pandemic = BH_tweets_during_pandemic.drop_duplicates(ignore_index = True, subset = 'id')\n",
    "\n",
    "BH_tweets_during_pandemic.to_csv('dane/BH_tweets_during_pandemic.csv', index = False)"
   ]
  },
  {
   "cell_type": "code",
   "execution_count": 5,
   "metadata": {},
   "outputs": [],
   "source": [
    "#Merged parts of tweets about Berkshire hathaway during war\n",
    "\n",
    "BH_tweets_during_war_part1 = pd.read_csv('dane/BH_tweets_during_war_part1.csv', sep = '\\t')\n",
    "BH_tweets_during_war_part2 = pd.read_csv('dane/BH_tweets_during_war_part2.csv', sep = '\\t')\n",
    "BH_tweets_during_war_part3 = pd.read_csv('dane/BH_tweets_during_war_part3.csv', sep = '\\t')\n",
    "BH_tweets_during_war_part4 = pd.read_csv('dane/BH_tweets_during_war_part4.csv', sep = '\\t')\n",
    "BH_tweets_during_war_part5 = pd.read_csv('dane/BH_tweets_during_war_part5.csv', sep = '\\t')\n",
    "\n",
    "BH_tweets_during_war = pd.concat([BH_tweets_during_war_part1, BH_tweets_during_war_part2, \n",
    "                                  BH_tweets_during_war_part3, BH_tweets_during_war_part4,\n",
    "                                  BH_tweets_during_war_part5])\n",
    "\n",
    "BH_tweets_during_war = BH_tweets_during_war.drop_duplicates(ignore_index = True, subset ='id')\n",
    "\n",
    "BH_tweets_during_war.to_csv('dane/BH_tweets_during_war.csv', index = False)"
   ]
  }
 ],
 "metadata": {
  "kernelspec": {
   "display_name": "Python 3",
   "language": "python",
   "name": "python3"
  },
  "language_info": {
   "codemirror_mode": {
    "name": "ipython",
    "version": 3
   },
   "file_extension": ".py",
   "mimetype": "text/x-python",
   "name": "python",
   "nbconvert_exporter": "python",
   "pygments_lexer": "ipython3",
   "version": "3.6.10"
  }
 },
 "nbformat": 4,
 "nbformat_minor": 5
}
