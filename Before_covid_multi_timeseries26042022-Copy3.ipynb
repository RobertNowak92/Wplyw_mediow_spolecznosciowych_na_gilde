{
 "cells": [
  {
   "cell_type": "code",
   "execution_count": 55,
   "id": "f31c1ee3",
   "metadata": {},
   "outputs": [],
   "source": [
    "import pandas as pd\n",
    "from datetime import datetime\n",
    "import matplotlib.pyplot as plt\n",
    "from statsmodels.graphics.tsaplots import plot_acf, plot_pacf\n",
    "from statsmodels.tsa.api import VAR\n",
    "from scipy.stats import pearsonr\n",
    "import numpy as np\n",
    "import pandas as pd\n",
    "\n",
    "import matplotlib.pyplot as plt\n",
    "%matplotlib inline\n",
    "\n",
    "# Libraries to define the required functions\n",
    "from statsmodels.tsa.stattools import adfuller\n",
    "from statsmodels.tsa.vector_ar.vecm import coint_johansen\n",
    "\n",
    "from pmdarima.model_selection import train_test_split as time_train_test_split\n",
    "from sklearn import metrics\n",
    "from sklearn.model_selection import ParameterGrid\n",
    "\n",
    "from statsmodels.tsa.api import VAR\n",
    "from statsmodels.tsa.statespace.varmax import VARMAX\n",
    "from pmdarima import auto_arima\n",
    "from statsmodels.tsa.stattools import grangercausalitytests\n",
    "\n",
    "\n",
    "import warnings\n",
    "warnings.filterwarnings(\"ignore\")"
   ]
  },
  {
   "cell_type": "code",
   "execution_count": 56,
   "id": "72a70fae",
   "metadata": {},
   "outputs": [],
   "source": [
    "before_covid=pd.read_csv('C:/Users/Admin/Documents/Konkatenacja_danych_MUL_TIME_SERIES/Wplyw_mediow_spolecznosciowych_na_gilde-main/dane/BRK_A_2017-09-29_to_2022-04-01_added_missing_dates.csv')"
   ]
  },
  {
   "cell_type": "code",
   "execution_count": 57,
   "id": "5ecf645b",
   "metadata": {},
   "outputs": [
    {
     "data": {
      "text/html": [
       "<div>\n",
       "<style scoped>\n",
       "    .dataframe tbody tr th:only-of-type {\n",
       "        vertical-align: middle;\n",
       "    }\n",
       "\n",
       "    .dataframe tbody tr th {\n",
       "        vertical-align: top;\n",
       "    }\n",
       "\n",
       "    .dataframe thead th {\n",
       "        text-align: right;\n",
       "    }\n",
       "</style>\n",
       "<table border=\"1\" class=\"dataframe\">\n",
       "  <thead>\n",
       "    <tr style=\"text-align: right;\">\n",
       "      <th></th>\n",
       "      <th>date</th>\n",
       "      <th>Open</th>\n",
       "      <th>High</th>\n",
       "      <th>Low</th>\n",
       "      <th>Close</th>\n",
       "      <th>Volume</th>\n",
       "    </tr>\n",
       "  </thead>\n",
       "  <tbody>\n",
       "    <tr>\n",
       "      <th>0</th>\n",
       "      <td>2017-09-29</td>\n",
       "      <td>274900.0</td>\n",
       "      <td>274950.0</td>\n",
       "      <td>273755.000000</td>\n",
       "      <td>274740.0</td>\n",
       "      <td>2.0</td>\n",
       "    </tr>\n",
       "    <tr>\n",
       "      <th>1</th>\n",
       "      <td>2017-09-30</td>\n",
       "      <td>274933.0</td>\n",
       "      <td>275970.0</td>\n",
       "      <td>274003.333333</td>\n",
       "      <td>275830.0</td>\n",
       "      <td>2.0</td>\n",
       "    </tr>\n",
       "    <tr>\n",
       "      <th>2</th>\n",
       "      <td>2017-10-01</td>\n",
       "      <td>274966.0</td>\n",
       "      <td>276990.0</td>\n",
       "      <td>274251.666667</td>\n",
       "      <td>276920.0</td>\n",
       "      <td>2.0</td>\n",
       "    </tr>\n",
       "    <tr>\n",
       "      <th>3</th>\n",
       "      <td>2017-10-02</td>\n",
       "      <td>274999.0</td>\n",
       "      <td>278010.0</td>\n",
       "      <td>274500.000000</td>\n",
       "      <td>278010.0</td>\n",
       "      <td>2.0</td>\n",
       "    </tr>\n",
       "    <tr>\n",
       "      <th>4</th>\n",
       "      <td>2017-10-03</td>\n",
       "      <td>278200.0</td>\n",
       "      <td>279660.0</td>\n",
       "      <td>277000.000000</td>\n",
       "      <td>278700.0</td>\n",
       "      <td>2.0</td>\n",
       "    </tr>\n",
       "    <tr>\n",
       "      <th>...</th>\n",
       "      <td>...</td>\n",
       "      <td>...</td>\n",
       "      <td>...</td>\n",
       "      <td>...</td>\n",
       "      <td>...</td>\n",
       "      <td>...</td>\n",
       "    </tr>\n",
       "    <tr>\n",
       "      <th>1641</th>\n",
       "      <td>2022-03-28</td>\n",
       "      <td>540913.0</td>\n",
       "      <td>544000.0</td>\n",
       "      <td>533345.000000</td>\n",
       "      <td>539180.0</td>\n",
       "      <td>38.0</td>\n",
       "    </tr>\n",
       "    <tr>\n",
       "      <th>1642</th>\n",
       "      <td>2022-03-29</td>\n",
       "      <td>544389.0</td>\n",
       "      <td>544389.0</td>\n",
       "      <td>528750.000000</td>\n",
       "      <td>532011.0</td>\n",
       "      <td>37.0</td>\n",
       "    </tr>\n",
       "    <tr>\n",
       "      <th>1643</th>\n",
       "      <td>2022-03-30</td>\n",
       "      <td>531305.0</td>\n",
       "      <td>537371.0</td>\n",
       "      <td>527650.000000</td>\n",
       "      <td>536440.0</td>\n",
       "      <td>23.0</td>\n",
       "    </tr>\n",
       "    <tr>\n",
       "      <th>1644</th>\n",
       "      <td>2022-03-31</td>\n",
       "      <td>538660.0</td>\n",
       "      <td>540420.0</td>\n",
       "      <td>528921.000000</td>\n",
       "      <td>528921.0</td>\n",
       "      <td>23.0</td>\n",
       "    </tr>\n",
       "    <tr>\n",
       "      <th>1645</th>\n",
       "      <td>2022-04-01</td>\n",
       "      <td>530026.0</td>\n",
       "      <td>533139.0</td>\n",
       "      <td>523662.000000</td>\n",
       "      <td>527760.0</td>\n",
       "      <td>26.0</td>\n",
       "    </tr>\n",
       "  </tbody>\n",
       "</table>\n",
       "<p>1646 rows × 6 columns</p>\n",
       "</div>"
      ],
      "text/plain": [
       "            date      Open      High            Low     Close  Volume\n",
       "0     2017-09-29  274900.0  274950.0  273755.000000  274740.0     2.0\n",
       "1     2017-09-30  274933.0  275970.0  274003.333333  275830.0     2.0\n",
       "2     2017-10-01  274966.0  276990.0  274251.666667  276920.0     2.0\n",
       "3     2017-10-02  274999.0  278010.0  274500.000000  278010.0     2.0\n",
       "4     2017-10-03  278200.0  279660.0  277000.000000  278700.0     2.0\n",
       "...          ...       ...       ...            ...       ...     ...\n",
       "1641  2022-03-28  540913.0  544000.0  533345.000000  539180.0    38.0\n",
       "1642  2022-03-29  544389.0  544389.0  528750.000000  532011.0    37.0\n",
       "1643  2022-03-30  531305.0  537371.0  527650.000000  536440.0    23.0\n",
       "1644  2022-03-31  538660.0  540420.0  528921.000000  528921.0    23.0\n",
       "1645  2022-04-01  530026.0  533139.0  523662.000000  527760.0    26.0\n",
       "\n",
       "[1646 rows x 6 columns]"
      ]
     },
     "execution_count": 57,
     "metadata": {},
     "output_type": "execute_result"
    }
   ],
   "source": [
    "before_covid"
   ]
  },
  {
   "cell_type": "code",
   "execution_count": 58,
   "id": "88bad94b",
   "metadata": {},
   "outputs": [
    {
     "name": "stdout",
     "output_type": "stream",
     "text": [
      "           date      Open           High            Low          Close  \\\n",
      "1    2017-09-30  274933.0  275970.000000  274003.333333  275830.000000   \n",
      "2    2017-10-01  274966.0  276990.000000  274251.666667  276920.000000   \n",
      "3    2017-10-02  274999.0  278010.000000  274500.000000  278010.000000   \n",
      "4    2017-10-03  278200.0  279660.000000  277000.000000  278700.000000   \n",
      "5    2017-10-04  279200.0  279960.000000  278385.000000  278670.000000   \n",
      "..          ...       ...            ...            ...            ...   \n",
      "361  2018-09-25  328101.0  328500.000000  326280.000000  328500.000000   \n",
      "362  2018-09-26  328100.0  328100.000000  324286.000000  324286.000000   \n",
      "363  2018-09-27  324401.0  326500.000000  323112.000000  324731.000000   \n",
      "364  2018-09-28  324500.0  324500.000000  320000.000000  320000.000000   \n",
      "365  2018-09-29  324055.0  324366.666667  320303.333333  320643.333333   \n",
      "\n",
      "       Volume  \n",
      "1    2.000000  \n",
      "2    2.000000  \n",
      "3    2.000000  \n",
      "4    2.000000  \n",
      "5    1.000000  \n",
      "..        ...  \n",
      "361  2.000000  \n",
      "362  3.000000  \n",
      "363  3.000000  \n",
      "364  4.000000  \n",
      "365  4.333333  \n",
      "\n",
      "[365 rows x 6 columns]\n"
     ]
    }
   ],
   "source": [
    "start_date = \"2017-09-30\"\n",
    "end_date = \"2018-09-29\"\n",
    "\n",
    "after_start_date = before_covid[\"date\"] >=start_date\n",
    "before_end_date = before_covid[\"date\"] <= end_date\n",
    "between_two_dates = after_start_date & before_end_date\n",
    "filtered_dates = before_covid.loc[between_two_dates]\n",
    "print(filtered_dates)"
   ]
  },
  {
   "cell_type": "code",
   "execution_count": 59,
   "id": "e54f876e",
   "metadata": {},
   "outputs": [],
   "source": [
    "before_covid.to_csv('C:/Users/Admin/Documents/Konkatenacja_danych_MUL_TIME_SERIES/before_covid.csv', index=False)"
   ]
  },
  {
   "cell_type": "code",
   "execution_count": 60,
   "id": "caccdd80",
   "metadata": {},
   "outputs": [
    {
     "name": "stdout",
     "output_type": "stream",
     "text": [
      "           date  Negative factual tweets  Negative personal tweets  \\\n",
      "0    2017-10-01                        1                         0   \n",
      "1    2017-10-02                        3                         0   \n",
      "2    2017-10-03                       29                         1   \n",
      "3    2017-10-04                        1                         2   \n",
      "4    2017-10-05                        2                         1   \n",
      "..          ...                      ...                       ...   \n",
      "360  2018-09-26                       40                         4   \n",
      "361  2018-09-27                       17                         3   \n",
      "362  2018-09-28                       12                         3   \n",
      "363  2018-09-29                        6                         2   \n",
      "364  2018-09-30                        4                         1   \n",
      "\n",
      "     Positive factual tweets  Positive personal tweets  \\\n",
      "0                          4                         2   \n",
      "1                         11                         3   \n",
      "2                        113                        36   \n",
      "3                         33                        29   \n",
      "4                         16                        11   \n",
      "..                       ...                       ...   \n",
      "360                       56                        94   \n",
      "361                       81                        55   \n",
      "362                       45                        51   \n",
      "363                       27                        28   \n",
      "364                       61                        34   \n",
      "\n",
      "     Neutral factual tweets  Neutral personal tweets  TAoYW      Open  \\\n",
      "0                        20                        4     31  274966.0   \n",
      "1                        37                        1     55  274999.0   \n",
      "2                       451                        1    631  278200.0   \n",
      "3                       108                        0    173  279200.0   \n",
      "4                        66                        1     97  279350.0   \n",
      "..                      ...                      ...    ...       ...   \n",
      "360                      56                        3    253  328100.0   \n",
      "361                      83                        6    245  324401.0   \n",
      "362                      70                        5    186  324500.0   \n",
      "363                      37                        2    102  324055.0   \n",
      "364                      27                        0    127  323610.0   \n",
      "\n",
      "              High            Low          Close    Volume  \n",
      "0    276990.000000  274251.666667  276920.000000  2.000000  \n",
      "1    278010.000000  274500.000000  278010.000000  2.000000  \n",
      "2    279660.000000  277000.000000  278700.000000  2.000000  \n",
      "3    279960.000000  278385.000000  278670.000000  1.000000  \n",
      "4    282000.000000  278780.000000  280360.000000  3.000000  \n",
      "..             ...            ...            ...       ...  \n",
      "360  328100.000000  324286.000000  324286.000000  3.000000  \n",
      "361  326500.000000  323112.000000  324731.000000  3.000000  \n",
      "362  324500.000000  320000.000000  320000.000000  4.000000  \n",
      "363  324366.666667  320303.333333  320643.333333  4.333333  \n",
      "364  324233.333333  320606.666667  321286.666667  4.666667  \n",
      "\n",
      "[365 rows x 13 columns]\n"
     ]
    }
   ],
   "source": [
    "df1 = pd.read_csv('C:/Users/Admin/Documents/Konkatenacja_danych_MUL_TIME_SERIES/Wplyw_mediow_spolecznosciowych_na_gilde-main/dane/BH_tweets_before_pandemic_textanalysis.csv')\n",
    "df1.rename(columns ={'Short negative factual tweets':'SNFT','Short negative personal tweets':'SNPT','Short positive factual tweets':'SPFT'\n",
    "                     ,'Short positive personal tweets':'SPPT','Short neutral factual tweets':'SNeFT','Short neutral personal tweets':'SNPT',\n",
    "                     'Long negative factual tweets':'LNFT','Long negative personal tweets':'LNPT',\n",
    "                     'Long positive factual tweets':'LPFT','Long positive personal tweets':'LPPT',\n",
    "                     'Long neutral factual tweets':'LNeFT','Long neutral personal tweets':'LNePT',\n",
    "                     'Total amount of tweets':'TAoYW'\n",
    "                \n",
    "                    }, inplace = True)\n",
    "\n",
    "#print(df1)\n",
    "df2 = pd.read_csv('C:/Users/Admin/Documents/Konkatenacja_danych_MUL_TIME_SERIES/before_covid.csv')\n",
    "df2.rename(columns = {'Date':'date'}, inplace = True)\n",
    "\n",
    "\n",
    "#df_combined = pd.merge([df1,df2])\n",
    "df_combined2=pd.merge(df1, df2, how='inner', on='date')\n",
    "print(df_combined2)\n",
    "\n",
    "df_combined2.to_csv('C:/Users/Admin/Documents/Konkatenacja_danych_MUL_TIME_SERIES/before_combined_covid3.csv')"
   ]
  },
  {
   "cell_type": "code",
   "execution_count": 61,
   "id": "074d87cd",
   "metadata": {},
   "outputs": [
    {
     "data": {
      "text/html": [
       "<div>\n",
       "<style scoped>\n",
       "    .dataframe tbody tr th:only-of-type {\n",
       "        vertical-align: middle;\n",
       "    }\n",
       "\n",
       "    .dataframe tbody tr th {\n",
       "        vertical-align: top;\n",
       "    }\n",
       "\n",
       "    .dataframe thead th {\n",
       "        text-align: right;\n",
       "    }\n",
       "</style>\n",
       "<table border=\"1\" class=\"dataframe\">\n",
       "  <thead>\n",
       "    <tr style=\"text-align: right;\">\n",
       "      <th></th>\n",
       "      <th>date</th>\n",
       "      <th>Negative factual tweets</th>\n",
       "      <th>Negative personal tweets</th>\n",
       "      <th>Positive factual tweets</th>\n",
       "      <th>Positive personal tweets</th>\n",
       "      <th>Neutral factual tweets</th>\n",
       "      <th>Neutral personal tweets</th>\n",
       "      <th>TAoYW</th>\n",
       "      <th>Open</th>\n",
       "      <th>High</th>\n",
       "      <th>Low</th>\n",
       "      <th>Close</th>\n",
       "      <th>Volume</th>\n",
       "    </tr>\n",
       "  </thead>\n",
       "  <tbody>\n",
       "    <tr>\n",
       "      <th>0</th>\n",
       "      <td>2017-10-01</td>\n",
       "      <td>1</td>\n",
       "      <td>0</td>\n",
       "      <td>4</td>\n",
       "      <td>2</td>\n",
       "      <td>20</td>\n",
       "      <td>4</td>\n",
       "      <td>31</td>\n",
       "      <td>274966.0</td>\n",
       "      <td>276990.000000</td>\n",
       "      <td>274251.666667</td>\n",
       "      <td>276920.000000</td>\n",
       "      <td>2.000000</td>\n",
       "    </tr>\n",
       "    <tr>\n",
       "      <th>1</th>\n",
       "      <td>2017-10-02</td>\n",
       "      <td>3</td>\n",
       "      <td>0</td>\n",
       "      <td>11</td>\n",
       "      <td>3</td>\n",
       "      <td>37</td>\n",
       "      <td>1</td>\n",
       "      <td>55</td>\n",
       "      <td>274999.0</td>\n",
       "      <td>278010.000000</td>\n",
       "      <td>274500.000000</td>\n",
       "      <td>278010.000000</td>\n",
       "      <td>2.000000</td>\n",
       "    </tr>\n",
       "    <tr>\n",
       "      <th>2</th>\n",
       "      <td>2017-10-03</td>\n",
       "      <td>29</td>\n",
       "      <td>1</td>\n",
       "      <td>113</td>\n",
       "      <td>36</td>\n",
       "      <td>451</td>\n",
       "      <td>1</td>\n",
       "      <td>631</td>\n",
       "      <td>278200.0</td>\n",
       "      <td>279660.000000</td>\n",
       "      <td>277000.000000</td>\n",
       "      <td>278700.000000</td>\n",
       "      <td>2.000000</td>\n",
       "    </tr>\n",
       "    <tr>\n",
       "      <th>3</th>\n",
       "      <td>2017-10-04</td>\n",
       "      <td>1</td>\n",
       "      <td>2</td>\n",
       "      <td>33</td>\n",
       "      <td>29</td>\n",
       "      <td>108</td>\n",
       "      <td>0</td>\n",
       "      <td>173</td>\n",
       "      <td>279200.0</td>\n",
       "      <td>279960.000000</td>\n",
       "      <td>278385.000000</td>\n",
       "      <td>278670.000000</td>\n",
       "      <td>1.000000</td>\n",
       "    </tr>\n",
       "    <tr>\n",
       "      <th>4</th>\n",
       "      <td>2017-10-05</td>\n",
       "      <td>2</td>\n",
       "      <td>1</td>\n",
       "      <td>16</td>\n",
       "      <td>11</td>\n",
       "      <td>66</td>\n",
       "      <td>1</td>\n",
       "      <td>97</td>\n",
       "      <td>279350.0</td>\n",
       "      <td>282000.000000</td>\n",
       "      <td>278780.000000</td>\n",
       "      <td>280360.000000</td>\n",
       "      <td>3.000000</td>\n",
       "    </tr>\n",
       "    <tr>\n",
       "      <th>...</th>\n",
       "      <td>...</td>\n",
       "      <td>...</td>\n",
       "      <td>...</td>\n",
       "      <td>...</td>\n",
       "      <td>...</td>\n",
       "      <td>...</td>\n",
       "      <td>...</td>\n",
       "      <td>...</td>\n",
       "      <td>...</td>\n",
       "      <td>...</td>\n",
       "      <td>...</td>\n",
       "      <td>...</td>\n",
       "      <td>...</td>\n",
       "    </tr>\n",
       "    <tr>\n",
       "      <th>360</th>\n",
       "      <td>2018-09-26</td>\n",
       "      <td>40</td>\n",
       "      <td>4</td>\n",
       "      <td>56</td>\n",
       "      <td>94</td>\n",
       "      <td>56</td>\n",
       "      <td>3</td>\n",
       "      <td>253</td>\n",
       "      <td>328100.0</td>\n",
       "      <td>328100.000000</td>\n",
       "      <td>324286.000000</td>\n",
       "      <td>324286.000000</td>\n",
       "      <td>3.000000</td>\n",
       "    </tr>\n",
       "    <tr>\n",
       "      <th>361</th>\n",
       "      <td>2018-09-27</td>\n",
       "      <td>17</td>\n",
       "      <td>3</td>\n",
       "      <td>81</td>\n",
       "      <td>55</td>\n",
       "      <td>83</td>\n",
       "      <td>6</td>\n",
       "      <td>245</td>\n",
       "      <td>324401.0</td>\n",
       "      <td>326500.000000</td>\n",
       "      <td>323112.000000</td>\n",
       "      <td>324731.000000</td>\n",
       "      <td>3.000000</td>\n",
       "    </tr>\n",
       "    <tr>\n",
       "      <th>362</th>\n",
       "      <td>2018-09-28</td>\n",
       "      <td>12</td>\n",
       "      <td>3</td>\n",
       "      <td>45</td>\n",
       "      <td>51</td>\n",
       "      <td>70</td>\n",
       "      <td>5</td>\n",
       "      <td>186</td>\n",
       "      <td>324500.0</td>\n",
       "      <td>324500.000000</td>\n",
       "      <td>320000.000000</td>\n",
       "      <td>320000.000000</td>\n",
       "      <td>4.000000</td>\n",
       "    </tr>\n",
       "    <tr>\n",
       "      <th>363</th>\n",
       "      <td>2018-09-29</td>\n",
       "      <td>6</td>\n",
       "      <td>2</td>\n",
       "      <td>27</td>\n",
       "      <td>28</td>\n",
       "      <td>37</td>\n",
       "      <td>2</td>\n",
       "      <td>102</td>\n",
       "      <td>324055.0</td>\n",
       "      <td>324366.666667</td>\n",
       "      <td>320303.333333</td>\n",
       "      <td>320643.333333</td>\n",
       "      <td>4.333333</td>\n",
       "    </tr>\n",
       "    <tr>\n",
       "      <th>364</th>\n",
       "      <td>2018-09-30</td>\n",
       "      <td>4</td>\n",
       "      <td>1</td>\n",
       "      <td>61</td>\n",
       "      <td>34</td>\n",
       "      <td>27</td>\n",
       "      <td>0</td>\n",
       "      <td>127</td>\n",
       "      <td>323610.0</td>\n",
       "      <td>324233.333333</td>\n",
       "      <td>320606.666667</td>\n",
       "      <td>321286.666667</td>\n",
       "      <td>4.666667</td>\n",
       "    </tr>\n",
       "  </tbody>\n",
       "</table>\n",
       "<p>365 rows × 13 columns</p>\n",
       "</div>"
      ],
      "text/plain": [
       "           date  Negative factual tweets  Negative personal tweets  \\\n",
       "0    2017-10-01                        1                         0   \n",
       "1    2017-10-02                        3                         0   \n",
       "2    2017-10-03                       29                         1   \n",
       "3    2017-10-04                        1                         2   \n",
       "4    2017-10-05                        2                         1   \n",
       "..          ...                      ...                       ...   \n",
       "360  2018-09-26                       40                         4   \n",
       "361  2018-09-27                       17                         3   \n",
       "362  2018-09-28                       12                         3   \n",
       "363  2018-09-29                        6                         2   \n",
       "364  2018-09-30                        4                         1   \n",
       "\n",
       "     Positive factual tweets  Positive personal tweets  \\\n",
       "0                          4                         2   \n",
       "1                         11                         3   \n",
       "2                        113                        36   \n",
       "3                         33                        29   \n",
       "4                         16                        11   \n",
       "..                       ...                       ...   \n",
       "360                       56                        94   \n",
       "361                       81                        55   \n",
       "362                       45                        51   \n",
       "363                       27                        28   \n",
       "364                       61                        34   \n",
       "\n",
       "     Neutral factual tweets  Neutral personal tweets  TAoYW      Open  \\\n",
       "0                        20                        4     31  274966.0   \n",
       "1                        37                        1     55  274999.0   \n",
       "2                       451                        1    631  278200.0   \n",
       "3                       108                        0    173  279200.0   \n",
       "4                        66                        1     97  279350.0   \n",
       "..                      ...                      ...    ...       ...   \n",
       "360                      56                        3    253  328100.0   \n",
       "361                      83                        6    245  324401.0   \n",
       "362                      70                        5    186  324500.0   \n",
       "363                      37                        2    102  324055.0   \n",
       "364                      27                        0    127  323610.0   \n",
       "\n",
       "              High            Low          Close    Volume  \n",
       "0    276990.000000  274251.666667  276920.000000  2.000000  \n",
       "1    278010.000000  274500.000000  278010.000000  2.000000  \n",
       "2    279660.000000  277000.000000  278700.000000  2.000000  \n",
       "3    279960.000000  278385.000000  278670.000000  1.000000  \n",
       "4    282000.000000  278780.000000  280360.000000  3.000000  \n",
       "..             ...            ...            ...       ...  \n",
       "360  328100.000000  324286.000000  324286.000000  3.000000  \n",
       "361  326500.000000  323112.000000  324731.000000  3.000000  \n",
       "362  324500.000000  320000.000000  320000.000000  4.000000  \n",
       "363  324366.666667  320303.333333  320643.333333  4.333333  \n",
       "364  324233.333333  320606.666667  321286.666667  4.666667  \n",
       "\n",
       "[365 rows x 13 columns]"
      ]
     },
     "execution_count": 61,
     "metadata": {},
     "output_type": "execute_result"
    }
   ],
   "source": [
    "df_combined2"
   ]
  },
  {
   "cell_type": "code",
   "execution_count": 62,
   "id": "fd42a153",
   "metadata": {},
   "outputs": [
    {
     "name": "stdout",
     "output_type": "stream",
     "text": [
      "(365, 13)\n"
     ]
    },
    {
     "data": {
      "text/html": [
       "<div>\n",
       "<style scoped>\n",
       "    .dataframe tbody tr th:only-of-type {\n",
       "        vertical-align: middle;\n",
       "    }\n",
       "\n",
       "    .dataframe tbody tr th {\n",
       "        vertical-align: top;\n",
       "    }\n",
       "\n",
       "    .dataframe thead th {\n",
       "        text-align: right;\n",
       "    }\n",
       "</style>\n",
       "<table border=\"1\" class=\"dataframe\">\n",
       "  <thead>\n",
       "    <tr style=\"text-align: right;\">\n",
       "      <th></th>\n",
       "      <th>Unnamed: 0</th>\n",
       "      <th>Negative factual tweets</th>\n",
       "      <th>Negative personal tweets</th>\n",
       "      <th>Positive factual tweets</th>\n",
       "      <th>Positive personal tweets</th>\n",
       "      <th>Neutral factual tweets</th>\n",
       "      <th>Neutral personal tweets</th>\n",
       "      <th>TAoYW</th>\n",
       "      <th>Open</th>\n",
       "      <th>High</th>\n",
       "      <th>Low</th>\n",
       "      <th>Close</th>\n",
       "      <th>Volume</th>\n",
       "    </tr>\n",
       "    <tr>\n",
       "      <th>date</th>\n",
       "      <th></th>\n",
       "      <th></th>\n",
       "      <th></th>\n",
       "      <th></th>\n",
       "      <th></th>\n",
       "      <th></th>\n",
       "      <th></th>\n",
       "      <th></th>\n",
       "      <th></th>\n",
       "      <th></th>\n",
       "      <th></th>\n",
       "      <th></th>\n",
       "      <th></th>\n",
       "    </tr>\n",
       "  </thead>\n",
       "  <tbody>\n",
       "    <tr>\n",
       "      <th>2017-10-01</th>\n",
       "      <td>0</td>\n",
       "      <td>1</td>\n",
       "      <td>0</td>\n",
       "      <td>4</td>\n",
       "      <td>2</td>\n",
       "      <td>20</td>\n",
       "      <td>4</td>\n",
       "      <td>31</td>\n",
       "      <td>274966.0</td>\n",
       "      <td>276990.0</td>\n",
       "      <td>274251.666667</td>\n",
       "      <td>276920.0</td>\n",
       "      <td>2.0</td>\n",
       "    </tr>\n",
       "    <tr>\n",
       "      <th>2017-10-02</th>\n",
       "      <td>1</td>\n",
       "      <td>3</td>\n",
       "      <td>0</td>\n",
       "      <td>11</td>\n",
       "      <td>3</td>\n",
       "      <td>37</td>\n",
       "      <td>1</td>\n",
       "      <td>55</td>\n",
       "      <td>274999.0</td>\n",
       "      <td>278010.0</td>\n",
       "      <td>274500.000000</td>\n",
       "      <td>278010.0</td>\n",
       "      <td>2.0</td>\n",
       "    </tr>\n",
       "    <tr>\n",
       "      <th>2017-10-03</th>\n",
       "      <td>2</td>\n",
       "      <td>29</td>\n",
       "      <td>1</td>\n",
       "      <td>113</td>\n",
       "      <td>36</td>\n",
       "      <td>451</td>\n",
       "      <td>1</td>\n",
       "      <td>631</td>\n",
       "      <td>278200.0</td>\n",
       "      <td>279660.0</td>\n",
       "      <td>277000.000000</td>\n",
       "      <td>278700.0</td>\n",
       "      <td>2.0</td>\n",
       "    </tr>\n",
       "    <tr>\n",
       "      <th>2017-10-04</th>\n",
       "      <td>3</td>\n",
       "      <td>1</td>\n",
       "      <td>2</td>\n",
       "      <td>33</td>\n",
       "      <td>29</td>\n",
       "      <td>108</td>\n",
       "      <td>0</td>\n",
       "      <td>173</td>\n",
       "      <td>279200.0</td>\n",
       "      <td>279960.0</td>\n",
       "      <td>278385.000000</td>\n",
       "      <td>278670.0</td>\n",
       "      <td>1.0</td>\n",
       "    </tr>\n",
       "    <tr>\n",
       "      <th>2017-10-05</th>\n",
       "      <td>4</td>\n",
       "      <td>2</td>\n",
       "      <td>1</td>\n",
       "      <td>16</td>\n",
       "      <td>11</td>\n",
       "      <td>66</td>\n",
       "      <td>1</td>\n",
       "      <td>97</td>\n",
       "      <td>279350.0</td>\n",
       "      <td>282000.0</td>\n",
       "      <td>278780.000000</td>\n",
       "      <td>280360.0</td>\n",
       "      <td>3.0</td>\n",
       "    </tr>\n",
       "  </tbody>\n",
       "</table>\n",
       "</div>"
      ],
      "text/plain": [
       "            Unnamed: 0  Negative factual tweets  Negative personal tweets  \\\n",
       "date                                                                        \n",
       "2017-10-01           0                        1                         0   \n",
       "2017-10-02           1                        3                         0   \n",
       "2017-10-03           2                       29                         1   \n",
       "2017-10-04           3                        1                         2   \n",
       "2017-10-05           4                        2                         1   \n",
       "\n",
       "            Positive factual tweets  Positive personal tweets  \\\n",
       "date                                                            \n",
       "2017-10-01                        4                         2   \n",
       "2017-10-02                       11                         3   \n",
       "2017-10-03                      113                        36   \n",
       "2017-10-04                       33                        29   \n",
       "2017-10-05                       16                        11   \n",
       "\n",
       "            Neutral factual tweets  Neutral personal tweets  TAoYW      Open  \\\n",
       "date                                                                           \n",
       "2017-10-01                      20                        4     31  274966.0   \n",
       "2017-10-02                      37                        1     55  274999.0   \n",
       "2017-10-03                     451                        1    631  278200.0   \n",
       "2017-10-04                     108                        0    173  279200.0   \n",
       "2017-10-05                      66                        1     97  279350.0   \n",
       "\n",
       "                High            Low     Close  Volume  \n",
       "date                                                   \n",
       "2017-10-01  276990.0  274251.666667  276920.0     2.0  \n",
       "2017-10-02  278010.0  274500.000000  278010.0     2.0  \n",
       "2017-10-03  279660.0  277000.000000  278700.0     2.0  \n",
       "2017-10-04  279960.0  278385.000000  278670.0     1.0  \n",
       "2017-10-05  282000.0  278780.000000  280360.0     3.0  "
      ]
     },
     "execution_count": 62,
     "metadata": {},
     "output_type": "execute_result"
    }
   ],
   "source": [
    "filepath = 'C:/Users/Admin/Documents/Konkatenacja_danych_MUL_TIME_SERIES/before_combined_covid3.csv'\n",
    "macro_data = pd.read_csv(filepath, parse_dates=['date'], index_col='date')\n",
    "print(macro_data.shape)  \n",
    "macro_data.head()"
   ]
  },
  {
   "cell_type": "code",
   "execution_count": 63,
   "id": "b5b8a3c5",
   "metadata": {},
   "outputs": [],
   "source": [
    "before_covid_two_v=macro_data[['TAoYW','Close']]"
   ]
  },
  {
   "cell_type": "code",
   "execution_count": 64,
   "id": "0f68bc55",
   "metadata": {},
   "outputs": [],
   "source": [
    "before_covid_two_v.to_csv('C:/Users/Admin/Documents/Konkatenacja_danych_MUL_TIME_SERIES/before_combined_covid_short.csv')"
   ]
  },
  {
   "cell_type": "code",
   "execution_count": 65,
   "id": "fa45c570",
   "metadata": {},
   "outputs": [
    {
     "data": {
      "text/html": [
       "<div>\n",
       "<style scoped>\n",
       "    .dataframe tbody tr th:only-of-type {\n",
       "        vertical-align: middle;\n",
       "    }\n",
       "\n",
       "    .dataframe tbody tr th {\n",
       "        vertical-align: top;\n",
       "    }\n",
       "\n",
       "    .dataframe thead th {\n",
       "        text-align: right;\n",
       "    }\n",
       "</style>\n",
       "<table border=\"1\" class=\"dataframe\">\n",
       "  <thead>\n",
       "    <tr style=\"text-align: right;\">\n",
       "      <th></th>\n",
       "      <th>date</th>\n",
       "      <th>TAoYW</th>\n",
       "      <th>Close</th>\n",
       "    </tr>\n",
       "  </thead>\n",
       "  <tbody>\n",
       "    <tr>\n",
       "      <th>0</th>\n",
       "      <td>2017-10-01</td>\n",
       "      <td>31</td>\n",
       "      <td>276920.0</td>\n",
       "    </tr>\n",
       "    <tr>\n",
       "      <th>1</th>\n",
       "      <td>2017-10-02</td>\n",
       "      <td>55</td>\n",
       "      <td>278010.0</td>\n",
       "    </tr>\n",
       "    <tr>\n",
       "      <th>2</th>\n",
       "      <td>2017-10-03</td>\n",
       "      <td>631</td>\n",
       "      <td>278700.0</td>\n",
       "    </tr>\n",
       "    <tr>\n",
       "      <th>3</th>\n",
       "      <td>2017-10-04</td>\n",
       "      <td>173</td>\n",
       "      <td>278670.0</td>\n",
       "    </tr>\n",
       "    <tr>\n",
       "      <th>4</th>\n",
       "      <td>2017-10-05</td>\n",
       "      <td>97</td>\n",
       "      <td>280360.0</td>\n",
       "    </tr>\n",
       "  </tbody>\n",
       "</table>\n",
       "</div>"
      ],
      "text/plain": [
       "         date  TAoYW     Close\n",
       "0  2017-10-01     31  276920.0\n",
       "1  2017-10-02     55  278010.0\n",
       "2  2017-10-03    631  278700.0\n",
       "3  2017-10-04    173  278670.0\n",
       "4  2017-10-05     97  280360.0"
      ]
     },
     "execution_count": 65,
     "metadata": {},
     "output_type": "execute_result"
    }
   ],
   "source": [
    "dfBC = pd.read_csv('C:/Users/Admin/Documents/Konkatenacja_danych_MUL_TIME_SERIES/before_combined_covid_short.csv')\n",
    "dfBC.head()"
   ]
  },
  {
   "cell_type": "code",
   "execution_count": 66,
   "id": "cd8687fb",
   "metadata": {},
   "outputs": [
    {
     "data": {
      "image/png": "[encoded data removed]",
      "text/plain": [
       "<Figure size 1080x432 with 1 Axes>"
      ]
     },
     "metadata": {
      "needs_background": "light"
     },
     "output_type": "display_data"
    },
    {
     "data": {
      "image/png": "[encoded data removed]",
      "text/plain": [
       "<Figure size 1080x432 with 1 Axes>"
      ]
     },
     "metadata": {
      "needs_background": "light"
     },
     "output_type": "display_data"
    }
   ],
   "source": [
    "for feat in dfBC[['TAoYW' ,'Close']]:\n",
    "    dfBC[str(feat)].plot(figsize=(15, 6))\n",
    "    plt.xlabel(\"Date\")\n",
    "    plt.ylabel(feat)\n",
    "    plt.title(f\"{str(feat)} stock Vs tweet\")\n",
    "    plt.show()"
   ]
  },
  {
   "cell_type": "code",
   "execution_count": 67,
   "id": "9cc30783",
   "metadata": {},
   "outputs": [
    {
     "data": {
      "image/png": "[encoded data removed]",
      "text/plain": [
       "<Figure size 1080x432 with 2 Axes>"
      ]
     },
     "metadata": {
      "needs_background": "light"
     },
     "output_type": "display_data"
    },
    {
     "data": {
      "image/png": "[encoded data removed]",
      "text/plain": [
       "<Figure size 1080x432 with 2 Axes>"
      ]
     },
     "metadata": {
      "needs_background": "light"
     },
     "output_type": "display_data"
    }
   ],
   "source": [
    "for feat in dfBC[['TAoYW', 'Close']]:\n",
    "    plt.figure(1, figsize=(15,6))\n",
    "    plt.subplot(211)\n",
    "    plt.title(f\"{str(feat)} Histogram before stationary\")\n",
    "    dfBC[str(feat)].hist()\n",
    "    plt.subplot(212)\n",
    "    dfBC[str(feat)].plot(kind='kde')\n",
    "    plt.title(f\"{str(feat)} Kernal Density Estimator before stationary\")\n",
    "    plt.show()"
   ]
  },
  {
   "cell_type": "code",
   "execution_count": null,
   "id": "80cbfb21",
   "metadata": {},
   "outputs": [],
   "source": [
    " '''\n",
    "    The Augmented Dickey Fuller Test (ADF) is unit root test for stationarity. \n",
    "    Unit roots can cause unpredictable results in  time series analysis.\n",
    " Augmented Dickey Fuller test (ADF Test) is a common statistical test used to test whether a given Time series \n",
    " is stationary or not.\n",
    " It is one of the most commonly used statistical test when it comes to analyzing the stationary of a series.\n",
    " The Augmented Dickey Fuller Test (ADF) is unit root test for stationarity. Unit roots can cause unpredictable results in your time series analysis.\n",
    "\n",
    "The Augmented Dickey-Fuller test can be used with serial correlation. The ADF test can handle more complex models than the\n",
    "Dickey-Fuller test, and it is also more powerful.\n",
    "That said, it should be used with caution because—like most unit root tests—it has a relatively high Type I error rate.\n",
    "    \n",
    "    \n",
    "    \n",
    "    \n",
    "        The hypotheses for the test:\n",
    "\n",
    "The null hypothesis for this test is that there is a unit root.\n",
    "The alternate hypothesis differs slightly according to which equation you’re using. \n",
    "The basic alternate is that the time series is stationary (or trend-stationary).\n",
    "\n",
    "    ''' "
   ]
  },
  {
   "cell_type": "code",
   "execution_count": 68,
   "id": "55947aeb",
   "metadata": {},
   "outputs": [],
   "source": [
    "def error_mean_absolute_percentage(y_true, y_pred):\n",
    "    y_true, y_pred = np.array(y_true), np.array(y_pred)\n",
    "    return np.mean(np.abs((y_true - y_pred) / y_true)) * 100"
   ]
  },
  {
   "cell_type": "code",
   "execution_count": 69,
   "id": "b1e20d84",
   "metadata": {},
   "outputs": [],
   "source": [
    "def multi_timeseries_ev_metrics_function(y_true, y_pred):\n",
    "   \n",
    "    #print('Evaluation metric results: ')\n",
    "    print(f'MSE is : {metrics.mean_squared_error(y_true, y_pred)}')\n",
    "    print(f'MAE is : {metrics.mean_absolute_error(y_true, y_pred)}')\n",
    "    print(f'RMSE is : {np.sqrt(metrics.mean_squared_error(y_true, y_pred))}')\n",
    "    print(f'MAPE is : {error_mean_absolute_percentage(y_true, y_pred)}')\n",
    "    print(f'R2 is : {metrics.r2_score(y_true, y_pred)}',end='\\n\\n')"
   ]
  },
  {
   "cell_type": "code",
   "execution_count": 70,
   "id": "36bb1181",
   "metadata": {},
   "outputs": [],
   "source": [
    "def multi_timeseries_Augmented_Dickey_Fuller_Test_function(series , column_name):\n",
    "\n",
    "    print (f'Results of Dickey-Fuller Test for column: {column_name}')\n",
    "    dftest = adfuller(series, autolag='AIC')\n",
    "    dfoutput = pd.Series(dftest[0:4], index=['Test Statistic','p-value','No Lags Used','Number of Observations Used'])\n",
    "    for key,value in dftest[4].items():\n",
    "       dfoutput['Critical Value (%s)'%key] = value\n",
    "    print (dfoutput)\n",
    "    if dftest[1] <= 0.05:\n",
    "        print(\"Conclusion:====>\")\n",
    "        print(\"Reject the null hypothesis\")\n",
    "        print(\"Data is stationary\")\n",
    "    else:\n",
    "        print(\"Conclusion:====>\")\n",
    "        print(\"Fail to reject the null hypothesis\")\n",
    "        print(\"Data is non-stationary\")"
   ]
  },
  {
   "cell_type": "code",
   "execution_count": null,
   "id": "af353846",
   "metadata": {},
   "outputs": [],
   "source": [
    "'''\n",
    "    Johansen's test is a way to determine if three or more time series are cointegrated.\n",
    "    More specifically, it assesses the validity of a cointegrating relationship, \n",
    "    using a maximum likelihood estimates (MLE) approach\n",
    "    Test if there is a long-run relationship between features\n",
    "    \n",
    "    What is Cointegration?\n",
    "Economic theory suggests that many time series datasets will move together, fluctuating around a long-run equilibrium. \n",
    "In econometrics and statistics, this long-run equilibrium is tested and measured using the concept of cointegration.\n",
    "\n",
    "Cointegration occurs when two or more nonstationary time series:\n",
    "\n",
    "Have a long-run equilibrium.\n",
    "Move together in such a way that their linear combination results in a stationary time series. \n",
    "Share an underlying common stochastic trend.\n",
    "The Johansen test is used to test cointegrating relationships between several non-stationary time series data. Compared to the Engle-Granger test, \n",
    "the Johansen test allows for more than one cointegrating relationship. However, it is subject to asymptotic properties (large sample size) since a \n",
    "small sample size would produce unreliable results. \n",
    "Using the test to find cointegration of several time series avoids the issues \n",
    "created when errors are carried forward to the next step.\n",
    "    \n",
    "\n",
    "    \n",
    "    Returns:\n",
    "        Bolean value whether a variable has a long-run relationship between other features\n",
    "    ''' "
   ]
  },
  {
   "cell_type": "code",
   "execution_count": 71,
   "id": "2f517522",
   "metadata": {},
   "outputs": [],
   "source": [
    "def johansen_cointegration_ts_function(df): \n",
    "   \n",
    "    res = coint_johansen(df,-1,5)\n",
    "    d = {'0.90':0, '0.95':1, '0.99':2}\n",
    "    traces = res.lr1\n",
    "    cvts = res.cvt[:, d[str(1-0.05)]]\n",
    "    def adjust(val, length= 6): \n",
    "        return str(val).ljust(length)\n",
    "    print('Column Name   >  Test Stat > C(95%)    =>   Signif  \\n', '--'*20)\n",
    "    for col, trace, cvt in zip(df.columns, traces, cvts):\n",
    "        print(adjust(col), '> ', adjust(round(trace,2), 9), \">\", adjust(cvt, 8), ' =>  ' , trace > cvt)"
   ]
  },
  {
   "cell_type": "code",
   "execution_count": null,
   "id": "c15f1e34",
   "metadata": {},
   "outputs": [],
   "source": [
    "'''\n",
    "    The inverse difference is the cumulative sum of the first value of the original series and the first differences\n",
    "    Time series datasets may contain trends and seasonality, which may need to be removed prior to modeling.\n",
    "\n",
    "Trends can result in a varying mean over time, whereas seasonality can result in a changing variance over time,\n",
    "both which define a time series as being non-stationary. Stationary datasets are those that have a stable mean and variance, \n",
    "and are in turn much easier to model.\n",
    "\n",
    "Differencing is a popular and widely used data transform for making time series data stationary.\n",
    "\n",
    "\n",
    "    \n",
    "    \n",
    "    Returns:\n",
    "       inversed DataFrame\n",
    "    '''"
   ]
  },
  {
   "cell_type": "code",
   "execution_count": 72,
   "id": "616bb467",
   "metadata": {},
   "outputs": [],
   "source": [
    "def inv_diferent_function(actual_df, pred_df):\n",
    "    df_res = pred_df.copy()\n",
    "    columns = actual_df.columns\n",
    "    for col in columns: \n",
    "        df_res[str(col)+'_1st_inv_diff'] = actual_df[col].iloc[-1] + df_res[str(col)].cumsum()\n",
    "    return df_res"
   ]
  },
  {
   "cell_type": "code",
   "execution_count": null,
   "id": "426e0066",
   "metadata": {},
   "outputs": [],
   "source": [
    "''''Before applying the VAR model, all the time series variables in the data should be stationary. \n",
    "Stationarity is a statistical property in which time series show constant mean and variance over time.\n",
    "\n",
    "One of the common methods to perform a stationarity check is the Augmented Dickey-Fuller test.\n",
    "\n",
    "In the ADF test, there is a null hypothesis that the time series is considered non-stationary. \n",
    "So, if the p-value of the test is less than the significance level then it rejects the null hypothesis\n",
    "and considers that the time series is stationary.'''"
   ]
  },
  {
   "cell_type": "code",
   "execution_count": 73,
   "id": "6f9f27c6",
   "metadata": {},
   "outputs": [
    {
     "name": "stdout",
     "output_type": "stream",
     "text": [
      "Results of Dickey-Fuller Test for column: TAoYW\n",
      "Test Statistic                -1.330183e+01\n",
      "p-value                        7.022751e-25\n",
      "No Lags Used                   0.000000e+00\n",
      "Number of Observations Used    3.640000e+02\n",
      "Critical Value (1%)           -3.448443e+00\n",
      "Critical Value (5%)           -2.869513e+00\n",
      "Critical Value (10%)          -2.571018e+00\n",
      "dtype: float64\n",
      "Conclusion:====>\n",
      "Reject the null hypothesis\n",
      "Data is stationary\n",
      "\n",
      "\n",
      "Results of Dickey-Fuller Test for column: Close\n",
      "Test Statistic                  -1.822330\n",
      "p-value                          0.369433\n",
      "No Lags Used                     9.000000\n",
      "Number of Observations Used    355.000000\n",
      "Critical Value (1%)             -3.448906\n",
      "Critical Value (5%)             -2.869716\n",
      "Critical Value (10%)            -2.571126\n",
      "dtype: float64\n",
      "Conclusion:====>\n",
      "Fail to reject the null hypothesis\n",
      "Data is non-stationary\n",
      "\n",
      "\n"
     ]
    }
   ],
   "source": [
    "for name, column in dfBC[['TAoYW','Close']].iteritems():\n",
    "    multi_timeseries_Augmented_Dickey_Fuller_Test_function(dfBC[name],name)\n",
    "    print('\\n')"
   ]
  },
  {
   "cell_type": "code",
   "execution_count": null,
   "id": "826b64ca",
   "metadata": {},
   "outputs": [],
   "source": [
    "''''The Granger Causality test is used to determine whether or not one time series is useful for forecasting another.\n",
    "\n",
    "This test uses the following null and alternative hypotheses:\n",
    "\n",
    "Null Hypothesis (H0): Time series x does not Granger-cause time series y\n",
    "\n",
    "Alternative Hypothesis (HA): Time series x Granger-causes time series y\n",
    "\n",
    "The term “Granger-causes” means that knowing the value of time series x at a certain lag is useful\n",
    "for predicting the value of time series y at a later time period.\n",
    "\n",
    "This test produces an F test statistic with a corresponding p-value. If the p-value is less than a certain significance level \n",
    "(i.e. α = .05), then we can reject the null hypothesis and conclude that \n",
    "we have sufficient evidence to say that time series x Granger-causes time series y.'''"
   ]
  },
  {
   "cell_type": "code",
   "execution_count": null,
   "id": "c2f4dff0",
   "metadata": {},
   "outputs": [],
   "source": [
    "'''''Granger causality test is used to determine if one time series will be useful to forecast another variable by investigating causality between two variables in a time series. The method is a probabilistic account of causality; \n",
    "it uses observed data sets to find patterns of correlation. One good thing about time series vector autoregression (VAR)\n",
    "is that we could test ‘causality’ in some sense. This test is first proposed by Granger (1969),\n",
    "and therefore we refer to it as the Granger causality.\n",
    "\n",
    "Simple Mechanism to define Granger Causality:\n",
    "\n",
    "It is based on the idea that if X causes Y, then the forecast of Y based on previous values of \n",
    "Y AND the previous values of X should best result in the forecast of Y based on previous values of Y alone.\n",
    "\n",
    "Granger causality should not be used to test if a lag of Y causes Y. Instead, it is generally used on exogenous\n",
    "(not Y lag) variables only. In simple terms ‘X is said to Granger-cause Y if Y \n",
    "can be better predicted using the histories of both X and Y than it can by using the history of Y alone’'''"
   ]
  },
  {
   "cell_type": "code",
   "execution_count": null,
   "id": "c8e987fa",
   "metadata": {},
   "outputs": [],
   "source": [
    "''''A lag features is a fancy name for a variable which contains data from prior time steps. \n",
    "If we have time-series data, we can convert it into rows.\n",
    "Every row contains data about one observation and includes all previous occurrences of that observation.'''"
   ]
  },
  {
   "cell_type": "code",
   "execution_count": 74,
   "id": "8e57bef1",
   "metadata": {},
   "outputs": [
    {
     "name": "stdout",
     "output_type": "stream",
     "text": [
      "TAoYW causes Close?\n",
      "\n",
      "------------------\n",
      "\n",
      "Granger Causality\n",
      "number of lags (no zero) 1\n",
      "ssr based F test:         F=0.5786  , p=0.4474  , df_denom=361, df_num=1\n",
      "ssr based chi2 test:   chi2=0.5834  , p=0.4450  , df=1\n",
      "likelihood ratio test: chi2=0.5829  , p=0.4452  , df=1\n",
      "parameter F test:         F=0.5786  , p=0.4474  , df_denom=361, df_num=1\n",
      "\n",
      "Granger Causality\n",
      "number of lags (no zero) 2\n",
      "ssr based F test:         F=0.3084  , p=0.7348  , df_denom=358, df_num=2\n",
      "ssr based chi2 test:   chi2=0.6255  , p=0.7315  , df=2\n",
      "likelihood ratio test: chi2=0.6249  , p=0.7316  , df=2\n",
      "parameter F test:         F=0.3084  , p=0.7348  , df_denom=358, df_num=2\n",
      "\n",
      "Granger Causality\n",
      "number of lags (no zero) 3\n",
      "ssr based F test:         F=10.6990 , p=0.0000  , df_denom=355, df_num=3\n",
      "ssr based chi2 test:   chi2=32.7298 , p=0.0000  , df=3\n",
      "likelihood ratio test: chi2=31.3337 , p=0.0000  , df=3\n",
      "parameter F test:         F=10.6990 , p=0.0000  , df_denom=355, df_num=3\n",
      "\n",
      "Granger Causality\n",
      "number of lags (no zero) 4\n",
      "ssr based F test:         F=8.4948  , p=0.0000  , df_denom=352, df_num=4\n",
      "ssr based chi2 test:   chi2=34.8479 , p=0.0000  , df=4\n",
      "likelihood ratio test: chi2=33.2669 , p=0.0000  , df=4\n",
      "parameter F test:         F=8.4948  , p=0.0000  , df_denom=352, df_num=4\n",
      "\\Close causes TAoYW ?\n",
      "\n",
      "------------------\n",
      "\n",
      "Granger Causality\n",
      "number of lags (no zero) 1\n",
      "ssr based F test:         F=3.2010  , p=0.0744  , df_denom=361, df_num=1\n",
      "ssr based chi2 test:   chi2=3.2276  , p=0.0724  , df=1\n",
      "likelihood ratio test: chi2=3.2134  , p=0.0730  , df=1\n",
      "parameter F test:         F=3.2010  , p=0.0744  , df_denom=361, df_num=1\n",
      "\n",
      "Granger Causality\n",
      "number of lags (no zero) 2\n",
      "ssr based F test:         F=1.5852  , p=0.2063  , df_denom=358, df_num=2\n",
      "ssr based chi2 test:   chi2=3.2148  , p=0.2004  , df=2\n",
      "likelihood ratio test: chi2=3.2006  , p=0.2018  , df=2\n",
      "parameter F test:         F=1.5852  , p=0.2063  , df_denom=358, df_num=2\n",
      "\n",
      "Granger Causality\n",
      "number of lags (no zero) 3\n",
      "ssr based F test:         F=1.3231  , p=0.2666  , df_denom=355, df_num=3\n",
      "ssr based chi2 test:   chi2=4.0476  , p=0.2564  , df=3\n",
      "likelihood ratio test: chi2=4.0251  , p=0.2588  , df=3\n",
      "parameter F test:         F=1.3231  , p=0.2666  , df_denom=355, df_num=3\n",
      "\n",
      "Granger Causality\n",
      "number of lags (no zero) 4\n",
      "ssr based F test:         F=1.0354  , p=0.3888  , df_denom=352, df_num=4\n",
      "ssr based chi2 test:   chi2=4.2474  , p=0.3736  , df=4\n",
      "likelihood ratio test: chi2=4.2226  , p=0.3767  , df=4\n",
      "parameter F test:         F=1.0354  , p=0.3888  , df_denom=352, df_num=4\n"
     ]
    }
   ],
   "source": [
    "print('TAoYW causes Close?\\n')\n",
    "print('------------------')\n",
    "granger_1 = grangercausalitytests(dfBC[['Close','TAoYW']], 4)\n",
    "\n",
    "print('\\Close causes TAoYW ?\\n')\n",
    "print('------------------')\n",
    "granger_2 = grangercausalitytests(dfBC[[ 'TAoYW','Close']], 4)"
   ]
  },
  {
   "cell_type": "code",
   "execution_count": 75,
   "id": "06716714",
   "metadata": {},
   "outputs": [],
   "source": [
    "X = dfBC[['TAoYW','Close']]\n",
    "\n",
    "trainX, testX = time_train_test_split(X, test_size=30)"
   ]
  },
  {
   "cell_type": "code",
   "execution_count": 76,
   "id": "b9c16fa1",
   "metadata": {},
   "outputs": [
    {
     "name": "stdout",
     "output_type": "stream",
     "text": [
      "Results of Dickey-Fuller Test for column: TAoYW\n",
      "Test Statistic                -9.208945e+00\n",
      "p-value                        1.910848e-15\n",
      "No Lags Used                   9.000000e+00\n",
      "Number of Observations Used    3.240000e+02\n",
      "Critical Value (1%)           -3.450695e+00\n",
      "Critical Value (5%)           -2.870502e+00\n",
      "Critical Value (10%)          -2.571545e+00\n",
      "dtype: float64\n",
      "Conclusion:====>\n",
      "Reject the null hypothesis\n",
      "Data is stationary\n",
      "\n",
      "\n",
      "Results of Dickey-Fuller Test for column: Close\n",
      "Test Statistic                -1.722793e+01\n",
      "p-value                        6.219414e-30\n",
      "No Lags Used                   0.000000e+00\n",
      "Number of Observations Used    3.330000e+02\n",
      "Critical Value (1%)           -3.450141e+00\n",
      "Critical Value (5%)           -2.870259e+00\n",
      "Critical Value (10%)          -2.571415e+00\n",
      "dtype: float64\n",
      "Conclusion:====>\n",
      "Reject the null hypothesis\n",
      "Data is stationary\n",
      "\n",
      "\n"
     ]
    }
   ],
   "source": [
    "di_train = trainX.diff()\n",
    "di_train.dropna(inplace = True)\n",
    "for name, column in di_train.iteritems():\n",
    "    multi_timeseries_Augmented_Dickey_Fuller_Test_function(di_train[name],name)\n",
    "    print('\\n')"
   ]
  },
  {
   "cell_type": "code",
   "execution_count": 77,
   "id": "4d33cef9",
   "metadata": {},
   "outputs": [
    {
     "data": {
      "image/png": "[encoded data removed]",
      "text/plain": [
       "<Figure size 1080x432 with 1 Axes>"
      ]
     },
     "metadata": {
      "needs_background": "light"
     },
     "output_type": "display_data"
    },
    {
     "data": {
      "image/png": "[encoded data removed]",
      "text/plain": [
       "<Figure size 1080x432 with 1 Axes>"
      ]
     },
     "metadata": {
      "needs_background": "light"
     },
     "output_type": "display_data"
    }
   ],
   "source": [
    "for feat in di_train:\n",
    "    di_train[str(feat)].plot(figsize=(15, 6))\n",
    "    plt.xlabel(\"Date\")\n",
    "    plt.ylabel(feat)\n",
    "    plt.title(f\"{str(feat)} stock Vs tweet after stationary\")\n",
    "    plt.show()"
   ]
  },
  {
   "cell_type": "code",
   "execution_count": 78,
   "id": "18330c52",
   "metadata": {},
   "outputs": [
    {
     "data": {
      "image/png": "[encoded data removed]",
      "text/plain": [
       "<Figure size 1080x432 with 2 Axes>"
      ]
     },
     "metadata": {
      "needs_background": "light"
     },
     "output_type": "display_data"
    },
    {
     "data": {
      "image/png": "[encoded data removed]",
      "text/plain": [
       "<Figure size 1080x432 with 2 Axes>"
      ]
     },
     "metadata": {
      "needs_background": "light"
     },
     "output_type": "display_data"
    }
   ],
   "source": [
    "for feat in di_train:\n",
    "    plt.figure(1, figsize=(15,6))\n",
    "    plt.subplot(211)\n",
    "    plt.title(f\"{str(feat)} Histogram after stationary\")\n",
    "    di_train[str(feat)].hist()\n",
    "    plt.subplot(212)\n",
    "    di_train[str(feat)].plot(kind='kde')\n",
    "    plt.title(f\"{str(feat)} Kernal Density Estimator after stationary\")\n",
    "    plt.show()"
   ]
  },
  {
   "cell_type": "code",
   "execution_count": 79,
   "id": "79dc389f",
   "metadata": {},
   "outputs": [
    {
     "name": "stdout",
     "output_type": "stream",
     "text": [
      "Column Name   >  Test Stat > C(95%)    =>   Signif  \n",
      " ----------------------------------------\n",
      "TAoYW  >  163.02    > 12.3212   =>   True\n",
      "Close  >  40.91     > 4.1296    =>   True\n"
     ]
    }
   ],
   "source": [
    "johansen_cointegration_ts_function(di_train)"
   ]
  },
  {
   "cell_type": "code",
   "execution_count": null,
   "id": "336c1f23",
   "metadata": {},
   "outputs": [],
   "source": [
    "''''A cointegration test is the co-movement among underlying variables over the long run. \n",
    "This long-run estimation feature distinguishes it from correlation.\n",
    "Two or more variables are cointegrated if ond only if they share common trends.\n",
    "Cointegration helps to find out the statistical connection between two or more time series.\n",
    "When two or more time series are cointegrated, they have a long run, statistically significant relationship'''"
   ]
  },
  {
   "cell_type": "code",
   "execution_count": null,
   "id": "abb59b14",
   "metadata": {},
   "outputs": [],
   "source": [
    "''''A stationary time series is one whose properties do not depend on the time at which the series is observed.14 \n",
    "Thus, time series with trends, or with seasonality, are not stationary — the trend and seasonality will \n",
    "affect the value of the time series at different times. On the other hand, a white noise series is stationary\n",
    "— it does not matter when you observe it, it should look much the same at any point in time.\n",
    "\n",
    "#Some cases can be confusing — a time series with cyclic behaviour (but with no trend or seasonality) is stationary.\n",
    "This is because the cycles are not of a fixed length, so before we observe the series we cannot be sure where \n",
    "the peaks and troughs of the cycles will be.\n",
    "\n",
    "In general, a stationary time series will have no predictable patterns in the long-term. \n",
    "Time plots will show the series to be roughly horizontal (although some cyclic behaviour is possible), with constant variance.'''"
   ]
  },
  {
   "cell_type": "code",
   "execution_count": 80,
   "id": "dac2fa89",
   "metadata": {},
   "outputs": [],
   "source": [
    "resu = []\n",
    "df_results_VAR = pd.DataFrame()\n",
    "\n",
    "for i in [1,2,3,4,5,6,7,8,9]:\n",
    "    fiting_v = VAR(di_train).fit(i)\n",
    "    aic = fiting_v.aic\n",
    "    bic = fiting_v.bic\n",
    "    df1 = {'AR_Term':i, 'AIC': aic, 'BIC': bic}\n",
    "    df_results_VAR = df_results_VAR.append(df1, ignore_index=True)\n",
    "    clist = ['AR_Term','AIC','BIC']\n",
    "    df_results_VAR = df_results_VAR[clist] "
   ]
  },
  {
   "cell_type": "code",
   "execution_count": null,
   "id": "5e43108a",
   "metadata": {},
   "outputs": [],
   "source": [
    "''''AIC stands for “Akaike Information Criterion”, and comes from minimizing the Kullback-Leibler divergence,\n",
    "a statistical measure of how far are two distributions.BIC follows a similar principle, \n",
    "but stands for “Bayesian Information Criterion”.\n",
    "The smaller the AIC the better. When is a model going to be\n",
    "better? The larger the sample size, the lower the unexplained\n",
    "variance, the fewer parameters we use'''"
   ]
  },
  {
   "cell_type": "code",
   "execution_count": 81,
   "id": "a04e5fa0",
   "metadata": {},
   "outputs": [
    {
     "data": {
      "text/html": [
       "<div>\n",
       "<style scoped>\n",
       "    .dataframe tbody tr th:only-of-type {\n",
       "        vertical-align: middle;\n",
       "    }\n",
       "\n",
       "    .dataframe tbody tr th {\n",
       "        vertical-align: top;\n",
       "    }\n",
       "\n",
       "    .dataframe thead th {\n",
       "        text-align: right;\n",
       "    }\n",
       "</style>\n",
       "<table border=\"1\" class=\"dataframe\">\n",
       "  <thead>\n",
       "    <tr style=\"text-align: right;\">\n",
       "      <th></th>\n",
       "      <th>AR_Term</th>\n",
       "      <th>AIC</th>\n",
       "      <th>BIC</th>\n",
       "    </tr>\n",
       "  </thead>\n",
       "  <tbody>\n",
       "    <tr>\n",
       "      <th>8</th>\n",
       "      <td>9.0</td>\n",
       "      <td>28.056015</td>\n",
       "      <td>28.498431</td>\n",
       "    </tr>\n",
       "    <tr>\n",
       "      <th>7</th>\n",
       "      <td>8.0</td>\n",
       "      <td>28.136939</td>\n",
       "      <td>28.531891</td>\n",
       "    </tr>\n",
       "    <tr>\n",
       "      <th>5</th>\n",
       "      <td>6.0</td>\n",
       "      <td>28.138084</td>\n",
       "      <td>28.438750</td>\n",
       "    </tr>\n",
       "    <tr>\n",
       "      <th>6</th>\n",
       "      <td>7.0</td>\n",
       "      <td>28.140586</td>\n",
       "      <td>28.488289</td>\n",
       "    </tr>\n",
       "    <tr>\n",
       "      <th>4</th>\n",
       "      <td>5.0</td>\n",
       "      <td>28.165110</td>\n",
       "      <td>28.418950</td>\n",
       "    </tr>\n",
       "    <tr>\n",
       "      <th>3</th>\n",
       "      <td>4.0</td>\n",
       "      <td>28.185701</td>\n",
       "      <td>28.392924</td>\n",
       "    </tr>\n",
       "    <tr>\n",
       "      <th>2</th>\n",
       "      <td>3.0</td>\n",
       "      <td>28.187367</td>\n",
       "      <td>28.348182</td>\n",
       "    </tr>\n",
       "    <tr>\n",
       "      <th>1</th>\n",
       "      <td>2.0</td>\n",
       "      <td>28.199236</td>\n",
       "      <td>28.313848</td>\n",
       "    </tr>\n",
       "    <tr>\n",
       "      <th>0</th>\n",
       "      <td>1.0</td>\n",
       "      <td>28.324122</td>\n",
       "      <td>28.392737</td>\n",
       "    </tr>\n",
       "  </tbody>\n",
       "</table>\n",
       "</div>"
      ],
      "text/plain": [
       "   AR_Term        AIC        BIC\n",
       "8      9.0  28.056015  28.498431\n",
       "7      8.0  28.136939  28.531891\n",
       "5      6.0  28.138084  28.438750\n",
       "6      7.0  28.140586  28.488289\n",
       "4      5.0  28.165110  28.418950\n",
       "3      4.0  28.185701  28.392924\n",
       "2      3.0  28.187367  28.348182\n",
       "1      2.0  28.199236  28.313848\n",
       "0      1.0  28.324122  28.392737"
      ]
     },
     "execution_count": 81,
     "metadata": {},
     "output_type": "execute_result"
    }
   ],
   "source": [
    "df_results_VAR.sort_values(by=['AIC', 'BIC'], ascending=True)"
   ]
  },
  {
   "cell_type": "code",
   "execution_count": 82,
   "id": "3950a150",
   "metadata": {},
   "outputs": [
    {
     "data": {
      "text/html": [
       "<div>\n",
       "<style scoped>\n",
       "    .dataframe tbody tr th:only-of-type {\n",
       "        vertical-align: middle;\n",
       "    }\n",
       "\n",
       "    .dataframe tbody tr th {\n",
       "        vertical-align: top;\n",
       "    }\n",
       "\n",
       "    .dataframe thead th {\n",
       "        text-align: right;\n",
       "    }\n",
       "</style>\n",
       "<table border=\"1\" class=\"dataframe\">\n",
       "  <thead>\n",
       "    <tr style=\"text-align: right;\">\n",
       "      <th></th>\n",
       "      <th>AR_Term</th>\n",
       "      <th>AIC</th>\n",
       "      <th>BIC</th>\n",
       "    </tr>\n",
       "  </thead>\n",
       "  <tbody>\n",
       "    <tr>\n",
       "      <th>8</th>\n",
       "      <td>9.0</td>\n",
       "      <td>28.056015</td>\n",
       "      <td>28.498431</td>\n",
       "    </tr>\n",
       "  </tbody>\n",
       "</table>\n",
       "</div>"
      ],
      "text/plain": [
       "   AR_Term        AIC        BIC\n",
       "8      9.0  28.056015  28.498431"
      ]
     },
     "execution_count": 82,
     "metadata": {},
     "output_type": "execute_result"
    }
   ],
   "source": [
    "best_values_VAR = df_results_VAR.sort_values(by=['AIC', 'BIC']).head(1)\n",
    "best_values_VAR"
   ]
  },
  {
   "cell_type": "code",
   "execution_count": null,
   "id": "27246f29",
   "metadata": {},
   "outputs": [],
   "source": [
    "#Vector Autoregression (VAR) is a stochastic process model utilized to seize the linear relation among the multiple variables\n",
    "#of time-series data. VAR is a bidirectional model, while others are undirectional. \n",
    "#In a undirectionla model, a predictor influences the target variable, but not vice versa. \n",
    "#In a bidirectional model, variables influence each other."
   ]
  },
  {
   "cell_type": "code",
   "execution_count": null,
   "id": "3b7a469e",
   "metadata": {},
   "outputs": [],
   "source": [
    "#Basic requirements to use the VAR model are :\n",
    "\n",
    "#Time series with at least two variables.\n",
    "#Relationship between variables.\n",
    "\n",
    "\n",
    "#Steps that we need to follow to build the VAR model are:\n",
    "\n",
    "#1. Examine the Data\n",
    "#2. Test for stationarity\n",
    "#2.1 If the data is non-stationary, take the difference.\n",
    "#2.2 Repeat this process until you get the stationary data.\n",
    "#3. Train Test Split\n",
    "#4. Grid search for order P\n",
    "#5. Apply the VAR model with order P\n",
    "#6. Forecast on new data.\n",
    "#7. If necessary, invert the earlier transformation.\n",
    "#The basic difference between the ARIMA family and VAR models is that all the ARIMA models are used for univariate time series,\n",
    "#where the VAR models work with multivariate time series. \n",
    "#In addition, ARIMA models are unidirectional models, \n",
    "#which means that the dependent variables are influenced by their past or lag values itself, \n",
    "#where VAR is a bi-directional model, which means a dependent variable is affected by its past value or by another variable’s\n",
    "#value or influenced by both of the things. "
   ]
  },
  {
   "cell_type": "code",
   "execution_count": 83,
   "id": "4f9d3fb3",
   "metadata": {},
   "outputs": [
    {
     "name": "stdout",
     "output_type": "stream",
     "text": [
      "AR_Term_value_VAR:  9.0\n"
     ]
    }
   ],
   "source": [
    "AR_Term_value_VAR = best_values_VAR['AR_Term'].iloc[0]\n",
    "\n",
    "print(\"AR_Term_value_VAR: \", AR_Term_value_VAR)"
   ]
  },
  {
   "cell_type": "code",
   "execution_count": null,
   "id": "f05c1746",
   "metadata": {},
   "outputs": [],
   "source": [
    "#Vector autoregression (VAR) is a statistical model used to capture the relationship between multiple quantities as\n",
    "#they change over time. VAR is a type of stochastic process model. \n",
    "#VAR models generalize the single-variable (univariate) autoregressive model by allowing for multivariate time series. \n",
    "#VAR models are often used in economics and the natural sciences.\n",
    "\n",
    "#Like the autoregressive model, each variable has an equation modelling its evolution over time. \n",
    "#This equation includes the variable's\n",
    "#lagged (past) values, the lagged values of the other variables in the model, and an error term.\n",
    "#VAR models do not require as much knowledge about the forces influencing a variable as do structural models with simultaneous\n",
    "#equations. The only prior knowledge required is a list of variables which can be hypothesized to affect each other over time."
   ]
  },
  {
   "cell_type": "code",
   "execution_count": null,
   "id": "28e6c7d4",
   "metadata": {},
   "outputs": [],
   "source": [
    "#How do we choose the number of lags in a VAR model?\n",
    "#Lag selection is one of the important aspects of VAR model specification. In practical applications,\n",
    "#we generally choose a maximum number of lags, , and evaluate the performance of the model including .\n",
    "\n",
    "#The optimal model is then the model VAR(p) which minimizes some lag selection criteria. \n",
    "#The most commonly used lag selection criteria are:\n",
    "\n",
    "#Akaike (AIC)\n",
    "#Schwarz-Bayesian (BIC)"
   ]
  },
  {
   "cell_type": "code",
   "execution_count": null,
   "id": "3de264c9",
   "metadata": {},
   "outputs": [],
   "source": [
    "''''To actually do the estimation, call the fit method with the desired lag order.\n",
    "Or you can have the model select a lag order based on a standard information criterion\n",
    "After this step, one thing comes up in the procedure: how to select the order.\n",
    "One thing that is usually performed is to check for the best-fit lag value. \n",
    "We need to compare the different AIC(Akaike Information Criterion),  BIC(Bayesian Information criterion),\n",
    "These all are the parameters that help to select the best-fit lag value.'''"
   ]
  },
  {
   "cell_type": "code",
   "execution_count": 84,
   "id": "1c21b4f5",
   "metadata": {},
   "outputs": [
    {
     "data": {
      "text/plain": [
       "  Summary of Regression Results   \n",
       "==================================\n",
       "Model:                         VAR\n",
       "Method:                        OLS\n",
       "Date:           Thu, 05, May, 2022\n",
       "Time:                     12:19:30\n",
       "--------------------------------------------------------------------\n",
       "No. of Equations:         2.00000    BIC:                    28.4984\n",
       "Nobs:                     325.000    HQIC:                   28.2326\n",
       "Log likelihood:          -5443.41    FPE:                1.52999e+12\n",
       "AIC:                      28.0560    Det(Omega_mle):     1.36565e+12\n",
       "--------------------------------------------------------------------\n",
       "Results for equation TAoYW\n",
       "===========================================================================\n",
       "              coefficient       std. error           t-stat            prob\n",
       "---------------------------------------------------------------------------\n",
       "const           -1.522548        28.103207           -0.054           0.957\n",
       "L1.TAoYW        -0.577347         0.057369          -10.064           0.000\n",
       "L1.Close         0.014036         0.011738            1.196           0.232\n",
       "L2.TAoYW        -0.526158         0.066071           -7.964           0.000\n",
       "L2.Close         0.003898         0.011642            0.335           0.738\n",
       "L3.TAoYW        -0.469574         0.073446           -6.393           0.000\n",
       "L3.Close         0.002057         0.011549            0.178           0.859\n",
       "L4.TAoYW        -0.412759         0.076240           -5.414           0.000\n",
       "L4.Close         0.016610         0.011381            1.460           0.144\n",
       "L5.TAoYW        -0.359544         0.077615           -4.632           0.000\n",
       "L5.Close        -0.004300         0.011300           -0.381           0.704\n",
       "L6.TAoYW        -0.288115         0.077884           -3.699           0.000\n",
       "L6.Close         0.003655         0.011354            0.322           0.747\n",
       "L7.TAoYW        -0.197169         0.075339           -2.617           0.009\n",
       "L7.Close        -0.005753         0.011351           -0.507           0.612\n",
       "L8.TAoYW        -0.163067         0.070187           -2.323           0.020\n",
       "L8.Close         0.007992         0.010978            0.728           0.467\n",
       "L9.TAoYW        -0.084437         0.061265           -1.378           0.168\n",
       "L9.Close         0.004935         0.010967            0.450           0.653\n",
       "===========================================================================\n",
       "\n",
       "Results for equation Close\n",
       "===========================================================================\n",
       "              coefficient       std. error           t-stat            prob\n",
       "---------------------------------------------------------------------------\n",
       "const           77.175192       130.471238            0.592           0.554\n",
       "L1.TAoYW         0.271973         0.266341            1.021           0.307\n",
       "L1.Close         0.093807         0.054493            1.721           0.085\n",
       "L2.TAoYW         0.890063         0.306739            2.902           0.004\n",
       "L2.Close         0.025500         0.054047            0.472           0.637\n",
       "L3.TAoYW        -0.532887         0.340980           -1.563           0.118\n",
       "L3.Close         0.017505         0.053617            0.326           0.744\n",
       "L4.TAoYW        -0.555615         0.353950           -1.570           0.116\n",
       "L4.Close        -0.008039         0.052835           -0.152           0.879\n",
       "L5.TAoYW        -0.910998         0.360331           -2.528           0.011\n",
       "L5.Close         0.134728         0.052463            2.568           0.010\n",
       "L6.TAoYW        -1.179193         0.361582           -3.261           0.001\n",
       "L6.Close        -0.066458         0.052710           -1.261           0.207\n",
       "L7.TAoYW        -0.025716         0.349767           -0.074           0.941\n",
       "L7.Close        -0.025917         0.052700           -0.492           0.623\n",
       "L8.TAoYW        -0.187236         0.325847           -0.575           0.566\n",
       "L8.Close        -0.035984         0.050968           -0.706           0.480\n",
       "L9.TAoYW        -1.544548         0.284429           -5.430           0.000\n",
       "L9.Close         0.128202         0.050917            2.518           0.012\n",
       "===========================================================================\n",
       "\n",
       "Correlation matrix of residuals\n",
       "            TAoYW     Close\n",
       "TAoYW    1.000000  0.096429\n",
       "Close    0.096429  1.000000\n",
       "\n"
      ]
     },
     "metadata": {},
     "output_type": "display_data"
    },
    {
     "data": {
      "text/html": [
       "<div>\n",
       "<style scoped>\n",
       "    .dataframe tbody tr th:only-of-type {\n",
       "        vertical-align: middle;\n",
       "    }\n",
       "\n",
       "    .dataframe tbody tr th {\n",
       "        vertical-align: top;\n",
       "    }\n",
       "\n",
       "    .dataframe thead th {\n",
       "        text-align: right;\n",
       "    }\n",
       "</style>\n",
       "<table border=\"1\" class=\"dataframe\">\n",
       "  <thead>\n",
       "    <tr style=\"text-align: right;\">\n",
       "      <th></th>\n",
       "      <th>TAoYW</th>\n",
       "      <th>Close</th>\n",
       "    </tr>\n",
       "    <tr>\n",
       "      <th>new_index</th>\n",
       "      <th></th>\n",
       "      <th></th>\n",
       "    </tr>\n",
       "  </thead>\n",
       "  <tbody>\n",
       "    <tr>\n",
       "      <th>335</th>\n",
       "      <td>48.121626</td>\n",
       "      <td>-633.236841</td>\n",
       "    </tr>\n",
       "    <tr>\n",
       "      <th>336</th>\n",
       "      <td>47.053967</td>\n",
       "      <td>-653.153603</td>\n",
       "    </tr>\n",
       "    <tr>\n",
       "      <th>337</th>\n",
       "      <td>47.682698</td>\n",
       "      <td>1115.551706</td>\n",
       "    </tr>\n",
       "    <tr>\n",
       "      <th>338</th>\n",
       "      <td>-3.536172</td>\n",
       "      <td>569.800123</td>\n",
       "    </tr>\n",
       "    <tr>\n",
       "      <th>339</th>\n",
       "      <td>42.210124</td>\n",
       "      <td>-1379.928827</td>\n",
       "    </tr>\n",
       "  </tbody>\n",
       "</table>\n",
       "</div>"
      ],
      "text/plain": [
       "               TAoYW        Close\n",
       "new_index                        \n",
       "335        48.121626  -633.236841\n",
       "336        47.053967  -653.153603\n",
       "337        47.682698  1115.551706\n",
       "338        -3.536172   569.800123\n",
       "339        42.210124 -1379.928827"
      ]
     },
     "execution_count": 84,
     "metadata": {},
     "output_type": "execute_result"
    }
   ],
   "source": [
    "model_1 = VAR(di_train)\n",
    "\n",
    "results = model_1.fit(int(AR_Term_value_VAR))\n",
    "display(results.summary())\n",
    "for_z = results.forecast(y=di_train.values, steps=len(testX))\n",
    "df_pred = pd.DataFrame(for_z, columns=di_train.columns)\n",
    "df_pred[\"new_index\"] = range(len(trainX), len(X))\n",
    "df_pred = df_pred.set_index(\"new_index\")\n",
    "df_pred.head()"
   ]
  },
  {
   "cell_type": "code",
   "execution_count": 85,
   "id": "c8b1df4b",
   "metadata": {},
   "outputs": [
    {
     "data": {
      "text/html": [
       "<div>\n",
       "<style scoped>\n",
       "    .dataframe tbody tr th:only-of-type {\n",
       "        vertical-align: middle;\n",
       "    }\n",
       "\n",
       "    .dataframe tbody tr th {\n",
       "        vertical-align: top;\n",
       "    }\n",
       "\n",
       "    .dataframe thead th {\n",
       "        text-align: right;\n",
       "    }\n",
       "</style>\n",
       "<table border=\"1\" class=\"dataframe\">\n",
       "  <thead>\n",
       "    <tr style=\"text-align: right;\">\n",
       "      <th></th>\n",
       "      <th>TAoYW</th>\n",
       "      <th>Close</th>\n",
       "      <th>TAoYW_1st_inv_diff</th>\n",
       "      <th>Close_1st_inv_diff</th>\n",
       "    </tr>\n",
       "    <tr>\n",
       "      <th>new_index</th>\n",
       "      <th></th>\n",
       "      <th></th>\n",
       "      <th></th>\n",
       "      <th></th>\n",
       "    </tr>\n",
       "  </thead>\n",
       "  <tbody>\n",
       "    <tr>\n",
       "      <th>335</th>\n",
       "      <td>48.121626</td>\n",
       "      <td>-633.236841</td>\n",
       "      <td>175.121626</td>\n",
       "      <td>320653.429826</td>\n",
       "    </tr>\n",
       "    <tr>\n",
       "      <th>336</th>\n",
       "      <td>47.053967</td>\n",
       "      <td>-653.153603</td>\n",
       "      <td>222.175593</td>\n",
       "      <td>320000.276223</td>\n",
       "    </tr>\n",
       "    <tr>\n",
       "      <th>337</th>\n",
       "      <td>47.682698</td>\n",
       "      <td>1115.551706</td>\n",
       "      <td>269.858291</td>\n",
       "      <td>321115.827929</td>\n",
       "    </tr>\n",
       "    <tr>\n",
       "      <th>338</th>\n",
       "      <td>-3.536172</td>\n",
       "      <td>569.800123</td>\n",
       "      <td>266.322119</td>\n",
       "      <td>321685.628052</td>\n",
       "    </tr>\n",
       "    <tr>\n",
       "      <th>339</th>\n",
       "      <td>42.210124</td>\n",
       "      <td>-1379.928827</td>\n",
       "      <td>308.532243</td>\n",
       "      <td>320305.699225</td>\n",
       "    </tr>\n",
       "  </tbody>\n",
       "</table>\n",
       "</div>"
      ],
      "text/plain": [
       "               TAoYW        Close  TAoYW_1st_inv_diff  Close_1st_inv_diff\n",
       "new_index                                                                \n",
       "335        48.121626  -633.236841          175.121626       320653.429826\n",
       "336        47.053967  -653.153603          222.175593       320000.276223\n",
       "337        47.682698  1115.551706          269.858291       321115.827929\n",
       "338        -3.536172   569.800123          266.322119       321685.628052\n",
       "339        42.210124 -1379.928827          308.532243       320305.699225"
      ]
     },
     "execution_count": 85,
     "metadata": {},
     "output_type": "execute_result"
    }
   ],
   "source": [
    "res = inv_diferent_function(dfBC[['TAoYW','Close']],df_pred)\n",
    "res.head()"
   ]
  },
  {
   "cell_type": "code",
   "execution_count": null,
   "id": "c6d1ab47",
   "metadata": {},
   "outputs": [],
   "source": [
    "#The inverse difference is the cumulative sum of the first value of the original series and the first differences\n",
    "#Differencing is performed by subtracting the previous observation from the current observation."
   ]
  },
  {
   "cell_type": "code",
   "execution_count": 86,
   "id": "6382c6de",
   "metadata": {},
   "outputs": [
    {
     "name": "stdout",
     "output_type": "stream",
     "text": [
      "Evaluation metric for TAoYW\n",
      "MSE is : 17408.133500528937\n",
      "MAE is : 124.04990967865893\n",
      "RMSE is : 131.93988593495502\n",
      "MAPE is : 93.64080994058538\n",
      "R2 is : -8.530695762753998\n",
      "\n",
      "Evaluation metric for Close\n",
      "MSE is : 18385132.760341965\n",
      "MAE is : 3283.147042308932\n",
      "RMSE is : 4287.788796144461\n",
      "MAPE is : 1.0070573547574586\n",
      "R2 is : 0.11274915133136176\n",
      "\n"
     ]
    }
   ],
   "source": [
    "for i in ['TAoYW' ,'Close' ]:\n",
    "    print(f'Evaluation metric for {i}')\n",
    "    multi_timeseries_ev_metrics_function(testX[str(i)] , res[str(i)+'_1st_inv_diff'])"
   ]
  },
  {
   "cell_type": "code",
   "execution_count": null,
   "id": "5b525949",
   "metadata": {},
   "outputs": [],
   "source": [
    "''''R-squared (R2), which is the proportion of variation in the outcome that is explained by the predictor variables.\n",
    "In multiple regression models, R2 corresponds to the squared correlation between the observed outcome values and\n",
    "the predicted values by the model. The Higher the R-squared, the better the model.\n",
    "\n",
    "Root Mean Squared Error (RMSE), which measures the average error performed by the model in predicting the outcome \n",
    "for an observation. Mathematically, the RMSE is the square root of the mean squared error (MSE), \n",
    "which is the average squared difference between the observed actual outome values and the values predicted by the model.\n",
    "So, MSE = mean((observeds - predicteds)^2) and RMSE = sqrt(MSE). The lower the RMSE, the better the model.\n",
    "\n",
    "Residual Standard Error (RSE), also known as the model sigma, is a variant of the RMSE adjusted for \n",
    "the number of predictors in the model. The lower the RSE, the better the model. \n",
    "In practice, the difference between RMSE and RSE is very small, particularly for large multivariate data.\n",
    "\n",
    "Mean Absolute Error (MAE), like the RMSE, the MAE measures the prediction error. \n",
    "Mathematically, it is the average absolute difference between observed and predicted outcomes,\n",
    "MAE = mean(abs(observeds - predicteds)). MAE is less sensitive to outliers compared to RMSE.'''"
   ]
  },
  {
   "cell_type": "code",
   "execution_count": null,
   "id": "36aebcdb",
   "metadata": {},
   "outputs": [],
   "source": [
    "''''The Mean absolute error represents the average of the absolute difference between the actual and\n",
    "predicted values in the dataset. It measures the average of the residuals in the dataset.\n",
    "#Mean Squared Error represents the average of the squared difference between the original and predicted values in the data set.\n",
    "It measures the variance of the residuals.\n",
    "#Root Mean Squared Error is the square root of Mean Squared error. It measures the standard deviation of residuals.\n",
    "#The coefficient of determination or R-squared represents the proportion of the variance in the dependent variable\n",
    "which is explained by the linear regression model. \n",
    "It is a scale-free score i.e. irrespective of the values being small or large, the value of R square will be less than one.\n",
    "#Differences among these evaluation metrics\n",
    "#Mean Squared Error(MSE) and Root Mean Square Error penalizes the large prediction errors vi-a-vis Mean Absolute Error (MAE).\n",
    "However, RMSE is widely used than MSE to evaluate the performance of the regression model with other random models as\n",
    "it has the same units as the dependent variable (Y-axis).\n",
    "#MSE is a differentiable function that makes it easy to perform mathematical operations in comparison to\n",
    "a non-differentiable function like MAE. Therefore, in many models, RMSE is used as a default metric for calculating\n",
    "Loss Function despite being harder to interpret than MAE.\n",
    "\n",
    "#The lower value of MAE, MSE, and RMSE implies higher accuracy of a regression model.\n",
    "However, a higher value of R square is considered desirable.\n",
    "#Both RMSE and R- Squared quantifies how well a linear regression model fits a dataset. \n",
    "The RMSE tells how well a regression model can predict the value of a response variable in absolute terms while\n",
    "R- Squared tells how well the predictor variables can explain the variation in the response variable.'''"
   ]
  },
  {
   "cell_type": "code",
   "execution_count": 87,
   "id": "7f3b273c",
   "metadata": {},
   "outputs": [
    {
     "data": {
      "image/png": "[encoded data removed]",
      "text/plain": [
       "<Figure size 720x504 with 1 Axes>"
      ]
     },
     "metadata": {
      "needs_background": "light"
     },
     "output_type": "display_data"
    },
    {
     "data": {
      "image/png": "[encoded data removed]",
      "text/plain": [
       "<Figure size 720x504 with 1 Axes>"
      ]
     },
     "metadata": {
      "needs_background": "light"
     },
     "output_type": "display_data"
    }
   ],
   "source": [
    "for i in ['TAoYW','Close' ]:\n",
    "    \n",
    "    plt.rcParams[\"figure.figsize\"] = [10,7]\n",
    "    plt.plot(trainX[str(i)], label='Train '+str(i))\n",
    "    plt.plot(testX[str(i)], label='Test '+str(i))\n",
    "    plt.plot(res[str(i)+'_1st_inv_diff'], label='Predicted '+str(i))\n",
    "    plt.legend(loc='best')\n",
    "    plt.show()"
   ]
  },
  {
   "cell_type": "code",
   "execution_count": 88,
   "id": "e3876419",
   "metadata": {},
   "outputs": [],
   "source": [
    "param_grid = {'p': [1,2,3], 'q':[1,2,3], 'tr': ['n','c','t','ct']}\n",
    "pg = list(ParameterGrid(param_grid))"
   ]
  },
  {
   "cell_type": "code",
   "execution_count": null,
   "id": "ef60c467",
   "metadata": {},
   "outputs": [],
   "source": [
    "''''A VARMA model is another extension of the ARMA model for a multivariate time-series model that contains a\n",
    "vector autoregressive (VAR) component, as well as the vector moving average (VMA). The method is used for \n",
    "multivariate time-series data deprived of trend and seasonal components.\n",
    "#The Vector Autoregression Moving-Average (VARMA) method models the next step in each time series using an ARMA model.\n",
    "It is the generalization of ARMA to multiple parallel time series, e.g. multivariate time series.\n",
    "\n",
    "#The notation for the model involves specifying the order for the AR(p) and MA(q) models as parameters to\n",
    "a VARMA function, e.g. VARMA(p, q).\n",
    "A VARMA model can also be used to develop VAR or VMA models.\n",
    "\n",
    "#The method is suitable for multivariate time series without trend and seasonal components.'''"
   ]
  },
  {
   "cell_type": "code",
   "execution_count": null,
   "id": "e9264096",
   "metadata": {},
   "outputs": [],
   "source": [
    "''''What is VARMA (Vector Auto Regressive Moving Average)?\n",
    "When the scenario comes on the modelling for a multivariate time series we can use different models \n",
    "like VAR and VMA and VARMA. \n",
    "The Vector Auto-Regressive(VAR) model is a generalization of the auto-regressive model for multivariate time series \n",
    "where the time series is stationary and we consider only the lag order ‘p’ in the modelling. \n",
    "The Vector Moving Average(VMA) model is a generalization of the Moving Average Model \n",
    "for multivariate time series where the time series is stationary and we consider only \n",
    "the order of moving average ‘q’ in the model.\n",
    "\n",
    "The Vector Autoregressive Moving Average(VARMA) model is a combination of VAR and VMA models that \n",
    "helps in multivariate time series modelling by considering both lag order \n",
    "and order of moving average (p and q)in the model. We can make a VARMA model act \n",
    "like a VAR model by just setting the q parameter as 0 and it also can act like a VMA model by\n",
    "just setting the p parameter as 0. '''"
   ]
  },
  {
   "cell_type": "code",
   "execution_count": 91,
   "id": "33e71159",
   "metadata": {},
   "outputs": [],
   "source": [
    "df_results_VARMA = pd.DataFrame(columns=['p', 'q', 'tr','RMSE TAoYW','RMSE Close'])\n",
    "\n",
    "for a,b in enumerate(pg):\n",
    "    p = b.get('p')\n",
    "    q = b.get('q')\n",
    "    tr = b.get('tr')\n",
    "    model_2 = VARMAX(di_train, order=(p,q), trend=tr).fit()\n",
    "    z = model_2.forecast(y=di_train[['TAoYW', 'Close']].values, steps=len(testX))\n",
    "    df_pred = pd.DataFrame(z, columns=[ 'TAoYW', 'Close'])\n",
    "    res = inv_diferent_function(dfBC[['TAoYW', 'Close']],df_pred)\n",
    "    openrmse = np.sqrt(metrics.mean_squared_error(testX.TAoYW, res.TAoYW_1st_inv_diff))\n",
    "    highrmse = np.sqrt(metrics.mean_squared_error(testX.Close, res.Close_1st_inv_diff))\n",
    "    df_results_VARMA = df_results_VARMA.append({'p': p, 'q': q, 'tr': tr,'RMSE TAoYW': openrmse,\n",
    "                                                'RMSE Close':highrmse }, ignore_index=True)"
   ]
  },
  {
   "cell_type": "code",
   "execution_count": null,
   "id": "92141e40",
   "metadata": {},
   "outputs": [],
   "source": [
    "#V for vector indicating that it’s a multivariate model\n",
    "\n",
    "#AR for autoregression\n",
    "\n",
    "#MA for moving average\n",
    "\n",
    "#X for the use of exogenous variables (in addition to the endogenous variables)\n",
    "#The VARMAX(p,q) model takes two hyperparameters:\n",
    "#p for the order of the AR part\n",
    "\n",
    "#q for the order of the MA part\n",
    "\n",
    "#The time series in a VARMAX have to be stationary.\n",
    "\n",
    "#trendstr{‘n’,’c’,’t’,’ct’} or iterable, optional\n",
    "#Parameter controlling the deterministic trend polynomial .\n",
    "#Can be specified as a string where ‘c’ indicates a constant (i.e. a degree zero component of the trend polynomial), \n",
    "#‘t’ indicates a linear trend with time, and ‘ct’ is both"
   ]
  },
  {
   "cell_type": "code",
   "execution_count": null,
   "id": "e0369e44",
   "metadata": {},
   "outputs": [],
   "source": [
    "#It is an extension of VARMA model where extra variables called covariates are used to model the primary variable \n",
    "#we are interested it.\n",
    "#Here we can see that the multivariate time series we are using are correlated. Now we can apply the Auto ARIMA model. \n",
    "#Which will tell us the order of p and q for our VARMA model.\n",
    "#You can specify the param_grid parameter as a list of dictionaries, and ParameterGrid will generate \n",
    "#the disjoint union of the resulting grids.\n",
    "#p: Stands for the number of lag observations included in the model, also known as the lag order.\n",
    "#q: Is the size of the moving average window and also called the order of moving average.\n",
    "#We can find an optimal set of parameters by checking the RMSE score after fitting them into the model. \n",
    "#The lower RMSE represents the best result"
   ]
  },
  {
   "cell_type": "code",
   "execution_count": 38,
   "id": "b6fa41d9",
   "metadata": {},
   "outputs": [
    {
     "data": {
      "text/html": [
       "<div>\n",
       "<style scoped>\n",
       "    .dataframe tbody tr th:only-of-type {\n",
       "        vertical-align: middle;\n",
       "    }\n",
       "\n",
       "    .dataframe tbody tr th {\n",
       "        vertical-align: top;\n",
       "    }\n",
       "\n",
       "    .dataframe thead th {\n",
       "        text-align: right;\n",
       "    }\n",
       "</style>\n",
       "<table border=\"1\" class=\"dataframe\">\n",
       "  <thead>\n",
       "    <tr style=\"text-align: right;\">\n",
       "      <th></th>\n",
       "      <th>p</th>\n",
       "      <th>q</th>\n",
       "      <th>tr</th>\n",
       "      <th>RMSE TAoYW</th>\n",
       "      <th>RMSE Close</th>\n",
       "    </tr>\n",
       "  </thead>\n",
       "  <tbody>\n",
       "    <tr>\n",
       "      <th>23</th>\n",
       "      <td>2</td>\n",
       "      <td>3</td>\n",
       "      <td>ct</td>\n",
       "      <td>44.013624</td>\n",
       "      <td>4084.809617</td>\n",
       "    </tr>\n",
       "    <tr>\n",
       "      <th>31</th>\n",
       "      <td>3</td>\n",
       "      <td>2</td>\n",
       "      <td>ct</td>\n",
       "      <td>46.559711</td>\n",
       "      <td>4139.297887</td>\n",
       "    </tr>\n",
       "    <tr>\n",
       "      <th>15</th>\n",
       "      <td>2</td>\n",
       "      <td>1</td>\n",
       "      <td>ct</td>\n",
       "      <td>48.044647</td>\n",
       "      <td>4016.893718</td>\n",
       "    </tr>\n",
       "    <tr>\n",
       "      <th>35</th>\n",
       "      <td>3</td>\n",
       "      <td>3</td>\n",
       "      <td>ct</td>\n",
       "      <td>52.027891</td>\n",
       "      <td>4272.904120</td>\n",
       "    </tr>\n",
       "    <tr>\n",
       "      <th>11</th>\n",
       "      <td>1</td>\n",
       "      <td>3</td>\n",
       "      <td>ct</td>\n",
       "      <td>52.109902</td>\n",
       "      <td>4203.962678</td>\n",
       "    </tr>\n",
       "  </tbody>\n",
       "</table>\n",
       "</div>"
      ],
      "text/plain": [
       "    p  q  tr  RMSE TAoYW   RMSE Close\n",
       "23  2  3  ct   44.013624  4084.809617\n",
       "31  3  2  ct   46.559711  4139.297887\n",
       "15  2  1  ct   48.044647  4016.893718\n",
       "35  3  3  ct   52.027891  4272.904120\n",
       "11  1  3  ct   52.109902  4203.962678"
      ]
     },
     "execution_count": 38,
     "metadata": {},
     "output_type": "execute_result"
    }
   ],
   "source": [
    "df_results_VARMA.sort_values(by=['RMSE TAoYW', 'RMSE Close']).head()"
   ]
  },
  {
   "cell_type": "code",
   "execution_count": null,
   "id": "91c11041",
   "metadata": {},
   "outputs": [],
   "source": [
    "# mean squared error (MSE) is a risk metric that measures the average of the squares of the prediction errors\n",
    "#Squaring the errors means that values of MSE are always positive, and low values of MSE are highly desired.\n",
    "#A perfect MSE score of 0 implies that our prediction powers are exactly aligned with actual values,\n",
    "#and that the squares of such differences are negligible. While the application of both the MSE and MAE helps \n",
    "#determine the strength of our model's\n",
    "#predictive powers, MSE triumphs over MAE by penalizing errors that are farther away from the mean. \n",
    "#Squaring the errors places a heavier bias on the risk metrics.\n",
    "#In this image, I have sorted the data frame according to the lowest RMSE and we can see over here \n",
    "#that the best-fit combination of the parameters is (p = 3, q = 1, tr = n) because it gives the least RMSE values.\n",
    "\n",
    "#Now we can fit these parameters on the model and predict the values. The below image is the evaluation metrics \n",
    "#for every time series in the multivariate time series."
   ]
  },
  {
   "cell_type": "code",
   "execution_count": 92,
   "id": "64ada743",
   "metadata": {},
   "outputs": [
    {
     "data": {
      "text/html": [
       "<div>\n",
       "<style scoped>\n",
       "    .dataframe tbody tr th:only-of-type {\n",
       "        vertical-align: middle;\n",
       "    }\n",
       "\n",
       "    .dataframe tbody tr th {\n",
       "        vertical-align: top;\n",
       "    }\n",
       "\n",
       "    .dataframe thead th {\n",
       "        text-align: right;\n",
       "    }\n",
       "</style>\n",
       "<table border=\"1\" class=\"dataframe\">\n",
       "  <thead>\n",
       "    <tr style=\"text-align: right;\">\n",
       "      <th></th>\n",
       "      <th>p</th>\n",
       "      <th>q</th>\n",
       "      <th>tr</th>\n",
       "      <th>RMSE TAoYW</th>\n",
       "      <th>RMSE Close</th>\n",
       "    </tr>\n",
       "  </thead>\n",
       "  <tbody>\n",
       "    <tr>\n",
       "      <th>23</th>\n",
       "      <td>2</td>\n",
       "      <td>3</td>\n",
       "      <td>ct</td>\n",
       "      <td>44.013624</td>\n",
       "      <td>4084.809617</td>\n",
       "    </tr>\n",
       "  </tbody>\n",
       "</table>\n",
       "</div>"
      ],
      "text/plain": [
       "    p  q  tr  RMSE TAoYW   RMSE Close\n",
       "23  2  3  ct   44.013624  4084.809617"
      ]
     },
     "execution_count": 92,
     "metadata": {},
     "output_type": "execute_result"
    }
   ],
   "source": [
    "best_values_VARMA = df_results_VARMA.sort_values(by=['RMSE TAoYW', 'RMSE Close']).head(1)\n",
    "best_values_VARMA"
   ]
  },
  {
   "cell_type": "code",
   "execution_count": 93,
   "id": "c50b31c9",
   "metadata": {},
   "outputs": [
    {
     "name": "stdout",
     "output_type": "stream",
     "text": [
      "p_value_VARMA:  2\n",
      "q_value_VARMA:  3\n",
      "tr_value_VARMA:  ct\n"
     ]
    }
   ],
   "source": [
    "p_value_VARMA = best_values_VARMA['p'].iloc[0]\n",
    "q_value_VARMA = best_values_VARMA['q'].iloc[0] \n",
    "tr_value_VARMA = best_values_VARMA['tr'].iloc[0] \n",
    "\n",
    "print(\"p_value_VARMA: \", p_value_VARMA)\n",
    "print(\"q_value_VARMA: \", q_value_VARMA)\n",
    "print(\"tr_value_VARMA: \", tr_value_VARMA)"
   ]
  },
  {
   "cell_type": "code",
   "execution_count": 94,
   "id": "e8b4c30a",
   "metadata": {},
   "outputs": [],
   "source": [
    "model_3 = VARMAX(di_train[['TAoYW', 'Close']], \n",
    "               order=(p_value_VARMA, q_value_VARMA),trends = tr_value_VARMA).fit(disp=False)\n",
    "result = model_3.forecast(steps = len(testX))"
   ]
  },
  {
   "cell_type": "code",
   "execution_count": 95,
   "id": "15c29963",
   "metadata": {},
   "outputs": [
    {
     "data": {
      "text/html": [
       "<div>\n",
       "<style scoped>\n",
       "    .dataframe tbody tr th:only-of-type {\n",
       "        vertical-align: middle;\n",
       "    }\n",
       "\n",
       "    .dataframe tbody tr th {\n",
       "        vertical-align: top;\n",
       "    }\n",
       "\n",
       "    .dataframe thead th {\n",
       "        text-align: right;\n",
       "    }\n",
       "</style>\n",
       "<table border=\"1\" class=\"dataframe\">\n",
       "  <thead>\n",
       "    <tr style=\"text-align: right;\">\n",
       "      <th></th>\n",
       "      <th>TAoYW</th>\n",
       "      <th>Close</th>\n",
       "      <th>TAoYW_1st_inv_diff</th>\n",
       "      <th>Close_1st_inv_diff</th>\n",
       "    </tr>\n",
       "  </thead>\n",
       "  <tbody>\n",
       "    <tr>\n",
       "      <th>334</th>\n",
       "      <td>110.442818</td>\n",
       "      <td>-143.408763</td>\n",
       "      <td>237.442818</td>\n",
       "      <td>321143.257904</td>\n",
       "    </tr>\n",
       "    <tr>\n",
       "      <th>335</th>\n",
       "      <td>8.852012</td>\n",
       "      <td>183.032864</td>\n",
       "      <td>246.294830</td>\n",
       "      <td>321326.290767</td>\n",
       "    </tr>\n",
       "    <tr>\n",
       "      <th>336</th>\n",
       "      <td>16.155411</td>\n",
       "      <td>198.108934</td>\n",
       "      <td>262.450241</td>\n",
       "      <td>321524.399701</td>\n",
       "    </tr>\n",
       "    <tr>\n",
       "      <th>337</th>\n",
       "      <td>-2.463909</td>\n",
       "      <td>182.074259</td>\n",
       "      <td>259.986332</td>\n",
       "      <td>321706.473960</td>\n",
       "    </tr>\n",
       "    <tr>\n",
       "      <th>338</th>\n",
       "      <td>0.255461</td>\n",
       "      <td>178.746105</td>\n",
       "      <td>260.241793</td>\n",
       "      <td>321885.220065</td>\n",
       "    </tr>\n",
       "  </tbody>\n",
       "</table>\n",
       "</div>"
      ],
      "text/plain": [
       "          TAoYW       Close  TAoYW_1st_inv_diff  Close_1st_inv_diff\n",
       "334  110.442818 -143.408763          237.442818       321143.257904\n",
       "335    8.852012  183.032864          246.294830       321326.290767\n",
       "336   16.155411  198.108934          262.450241       321524.399701\n",
       "337   -2.463909  182.074259          259.986332       321706.473960\n",
       "338    0.255461  178.746105          260.241793       321885.220065"
      ]
     },
     "execution_count": 95,
     "metadata": {},
     "output_type": "execute_result"
    }
   ],
   "source": [
    "res = inv_diferent_function(dfBC[['TAoYW', 'Close']], result)\n",
    "\n",
    "res.head()"
   ]
  },
  {
   "cell_type": "code",
   "execution_count": 96,
   "id": "56887645",
   "metadata": {},
   "outputs": [
    {
     "name": "stdout",
     "output_type": "stream",
     "text": [
      "Evaluation metric for TAoYW\n",
      "MSE is : 14588.529277137817\n",
      "MAE is : 113.10752664291657\n",
      "RMSE is : 120.78298422020305\n",
      "MAPE is : 87.19995363104032\n",
      "R2 is : -6.987004130121441\n",
      "\n",
      "Evaluation metric for Close\n",
      "MSE is : 15510709.005134504\n",
      "MAE is : 3076.1284472195334\n",
      "RMSE is : 3938.3637471841657\n",
      "MAPE is : 0.946826713386272\n",
      "R2 is : 0.2514663936535041\n",
      "\n"
     ]
    }
   ],
   "source": [
    "for i in ['TAoYW', 'Close']:\n",
    "    print(f'Evaluation metric for {i}')\n",
    "    multi_timeseries_ev_metrics_function(testX[str(i)] , res[str(i)+'_1st_inv_diff'])"
   ]
  },
  {
   "cell_type": "code",
   "execution_count": 97,
   "id": "7c1df153",
   "metadata": {},
   "outputs": [
    {
     "data": {
      "image/png": "[encoded data removed]",
      "text/plain": [
       "<Figure size 720x504 with 1 Axes>"
      ]
     },
     "metadata": {
      "needs_background": "light"
     },
     "output_type": "display_data"
    },
    {
     "data": {
      "image/png": "[encoded data removed]",
      "text/plain": [
       "<Figure size 720x504 with 1 Axes>"
      ]
     },
     "metadata": {
      "needs_background": "light"
     },
     "output_type": "display_data"
    }
   ],
   "source": [
    "for i in ['TAoYW' ,'Close']:\n",
    "    \n",
    "    plt.rcParams[\"figure.figsize\"] = [10,7]\n",
    "    plt.plot(trainX[str(i)], label='Train '+str(i))\n",
    "    plt.plot(testX[str(i)], label='Test '+str(i))\n",
    "    plt.plot(res[str(i)+'_1st_inv_diff'], label='Predicted '+str(i))\n",
    "    plt.legend(loc='best')\n",
    "    plt.show()"
   ]
  },
  {
   "cell_type": "code",
   "execution_count": null,
   "id": "31d35c64",
   "metadata": {},
   "outputs": [],
   "source": [
    "''''ARIMA, short for ‘Auto Regressive Integrated Moving Average’ is actually a class of models that ‘explains’ \n",
    "a given time series based on its own past values, that is, its own lags and the lagged forecast errors, \n",
    "so that equation can be used to forecast future values.\n",
    "#In an ARIMA model there are 3 parameters that are used to help model the major aspects of a times series:\n",
    "seasonality, trend, and noise. These parameters are labeled p,d,and q.\n",
    "#p is the parameter associated with the auto-regressive aspect of the model, which incorporates past values.\n",
    "For example, forecasting that if it rained a lot over the past few days, you state its likely that it will rain \n",
    "tomorrow as well.\n",
    "#d is the parameter associated with the integrated part of the model, which effects the amount of differencing to \n",
    "apply to a time series. You can imagine an example of this as forecasting that the amount of rain tomorrow \n",
    "will be similar to the amount of rain today, if the daily amounts of rain have been similar over the past few days.\n",
    "#q is the parameter associated with the moving average part of the model.\n",
    "#ARIMA has three components – AR (autoregressive term), I (differencing term) and MA (moving average term). \n",
    "Let us understand each of these components –\n",
    "\n",
    "#AR term refers to the past values used for forecasting the next value. \n",
    "The AR term is defined by the parameter ‘p’ in arima. The value of ‘p’ is determined using the PACF plot.\n",
    "#MA term is used to defines number of past forecast errors used to predict the future values. \n",
    "The parameter ‘q’ in arima represents the MA term. ACF plot is used to identify the correct ‘q’ value.\n",
    "#Order of differencing  specifies the number of times the differencing operation is performed on series to make it stationary.\n",
    "Test like ADF and KPSS can be used to determine whether the series is stationary and help in identifying the d value.\n",
    "# Auto ARIMA takes into account the AIC and BIC values generated (as you can see in the code) \n",
    "to determine the best combination of parameters. AIC (Akaike Information Criterion) and BIC (Bayesian Information Criterion)\n",
    "values are estimators to compare models. The lower these values, the better is the model'''"
   ]
  },
  {
   "cell_type": "code",
   "execution_count": null,
   "id": "813a28c3",
   "metadata": {},
   "outputs": [],
   "source": [
    "'''ARIMA, short for ‘AutoRegressive Integrated Moving Average’, \n",
    "is a forecasting algorithm based on the idea that the information in the past values of the time series \n",
    "can alone be used to predict the future values.''''''"
   ]
  },
  {
   "cell_type": "code",
   "execution_count": null,
   "id": "87de1ee1",
   "metadata": {},
   "outputs": [],
   "source": [
    "''''ARIMA, short for ‘Auto Regressive Integrated Moving Average’ is actually a \n",
    "class of models that ‘explains’ a given time series based on its own past values, \n",
    "that is, its own lags and the lagged forecast errors,\n",
    "so that equation can be used to forecast future values\n",
    "An ARIMA model is characterized by 3 terms: p, d, q\n",
    "\n",
    "where,\n",
    "\n",
    "p is the order of the AR term\n",
    "\n",
    "q is the order of the MA term\n",
    "\n",
    "d is the number of differencing required to make the time series stationary\n",
    "\n",
    "If a time series, has seasonal patterns, then you need to add seasonal terms and\n",
    "it becomes SARIMA, short for ‘Seasonal ARIMA’. More on that once we finish ARIMA.''''''"
   ]
  },
  {
   "cell_type": "code",
   "execution_count": null,
   "id": "c2c434eb",
   "metadata": {},
   "outputs": [],
   "source": [
    "''''Term ‘Auto Regressive’ in ARIMA means it is a linear regression model that uses its own lags as predictors.\n",
    "Linear regression models, as you know, work best when the predictors are not correlated and are independent of each other.'''"
   ]
  },
  {
   "cell_type": "code",
   "execution_count": null,
   "id": "346917c7",
   "metadata": {},
   "outputs": [],
   "source": [
    "''''How to find the order of the AR term (p)\n",
    "The next step is to identify if the model needs any AR terms.\n",
    "You can find out the required number of AR terms by inspecting the Partial Autocorrelation (PACF) plot.\n",
    "\n",
    "But what is PACF?\n",
    "\n",
    "Partial autocorrelation can be imagined as the correlation between the series and its lag, \n",
    "after excluding the contributions from the intermediate lags. \n",
    "So, PACF sort of conveys the pure correlation between a lag and the series. \n",
    "That way, you will know if that lag is needed in the AR term or not.\n",
    "PACF plot for the number of AR terms, you can look at the ACF plot for the number of MA terms.\n",
    "An MA term is technically, the error of the lagged forecast.\n",
    "\n",
    "The ACF tells how many MA terms are required to remove any autocorrelation in the stationarized series.\n",
    "ARIMA is an acronym that stands for AutoRegressive Integrated Moving Average. \n",
    "It is a class of model that captures a suite of different standard temporal structures in time series data''''''"
   ]
  },
  {
   "cell_type": "code",
   "execution_count": null,
   "id": "7db4036e",
   "metadata": {},
   "outputs": [],
   "source": [
    "''''ARIMA is an acronym that stands for AutoRegressive Integrated Moving Average. \n",
    "It is a generalization of the simpler AutoRegressive Moving Average and adds the notion of integration.\n",
    "\n",
    "This acronym is descriptive, capturing the key aspects of the model itself. Briefly, they are:\n",
    "\n",
    "AR: Autoregression. A model that uses the dependent relationship between an observation and some number of lagged observations.\n",
    "I: Integrated. The use of differencing of raw observations (e.g. subtracting an observation from an \n",
    "                                                            \n",
    "observation at the previous time step) in order to make the time series stationary.\n",
    "MA: Moving Average. A model that uses the dependency between an observation and a residual error\n",
    "from a moving average model applied to lagged observations.\n",
    "Each of these components are explicitly specified in the model as a parameter. \n",
    "A standard notation is used of ARIMA(p,d,q) where the parameters are substituted with integer values \n",
    "to quickly indicate the specific ARIMA model being used.\n",
    "\n",
    "The parameters of the ARIMA model are defined as follows:\n",
    "\n",
    "p: The number of lag observations included in the model, also called the lag order.\n",
    "d: The number of times that the raw observations are differenced, also called the degree of differencing.\n",
    "q: The size of the moving average window, also called the order of moving average.\n",
    "A linear regression model is constructed including the specified number and type of terms, \n",
    "and the data is prepared by a degree of differencing in order to make it stationary,\n",
    "i.e. to remove trend and seasonal structures that negatively affect the regression model.'''"
   ]
  },
  {
   "cell_type": "code",
   "execution_count": null,
   "id": "779183e5",
   "metadata": {},
   "outputs": [],
   "source": [
    "'''What is ARIMA?\n",
    "Before going for the Auto-ARIMA we need to understand what the ARIMA model is? In time series analysis, the ARIMA model\n",
    "is a model made up of three components: Auto-Regressive(AR), Integrated(I), and Moving Averages(MA). \n",
    "\n",
    "p: Stands for the number of lag observations included in the model, also known as the lag order.\n",
    "d: The number of times the raw observations are differentiated, also called the degree of difference.\n",
    "q: Is the size of the moving average window and also called the order of moving average.\n",
    "Before implementing the ARIMA model it is assumed that the time series we are using is a stationary time series and \n",
    "a univariate time series. To work with the ARIMA model we need to follow the below steps:\n",
    "\n",
    "Load the data and preprocess the data.\n",
    "Check the stationarity of the data.- if stationary then proceed for the further steps and if not then make it stationary.\n",
    " determine the degree of differencing(d).\n",
    " Determine the order of lag(p) and moving average(q), which can be done by making a PACF(partial autocorrelation function)\n",
    "and ACF(autocorrelation function) plot.\n",
    "Fitting the model and making the prediction.\n",
    "Check the performance of the model by calculating RMSE(root mean square error) between the actual and predicted values.'''"
   ]
  },
  {
   "cell_type": "code",
   "execution_count": null,
   "id": "619d95a0",
   "metadata": {},
   "outputs": [],
   "source": [
    "''''ARIMA Model\n",
    "You are now ready to build the ARIMA model and make predictions. \n",
    "You will be using the auto_arima function in Python, which automatically discovers the optimal order for an ARIMA model. \n",
    "In simple terms, the function will automatically determine the parameters p, d’, and q of the ARIMA model.\n",
    "\n",
    "The important parameters of the function are:\n",
    "\n",
    "The time-series to which you fit the ARIMA model.\n",
    "start_p: the starting value of p, the order of the auto-regressive (AR) model. This must be a positive integer.\n",
    "start_q: the starting value of q, the order of the moving-average (MA) model. This must be a positive integer.\n",
    "d: the order of first-differencing. The default setting is none, and then the value is selected automatically based on the results of the test, in this case the Augmented Dickey-Fuller test.\n",
    "test: type of unit root test to use in order to detect stationarity if stationary is False and d is none.'''"
   ]
  },
  {
   "cell_type": "code",
   "execution_count": 98,
   "id": "5a19fffe",
   "metadata": {},
   "outputs": [
    {
     "name": "stdout",
     "output_type": "stream",
     "text": [
      "Searching order of p and q for : TAoYW\n",
      "Performing stepwise search to minimize aic\n",
      " ARIMA(1,0,1)(0,0,0)[0]             : AIC=inf, Time=0.17 sec\n",
      " ARIMA(0,0,0)(0,0,0)[0]             : AIC=5187.580, Time=0.11 sec\n",
      " ARIMA(1,0,0)(0,0,0)[0]             : AIC=5151.123, Time=0.02 sec\n",
      " ARIMA(0,0,1)(0,0,0)[0]             : AIC=5098.508, Time=0.09 sec\n",
      " ARIMA(0,0,2)(0,0,0)[0]             : AIC=inf, Time=0.17 sec\n",
      " ARIMA(1,0,2)(0,0,0)[0]             : AIC=inf, Time=0.23 sec\n",
      " ARIMA(0,0,1)(0,0,0)[0] intercept   : AIC=5100.465, Time=0.15 sec\n",
      "\n",
      "Best model:  ARIMA(0,0,1)(0,0,0)[0]          \n",
      "Total fit time: 0.954 seconds\n",
      "optimal order for:TAoYW is: (0, 0, 1) \n",
      "\n",
      "\n",
      "Searching order of p and q for : Close\n",
      "Performing stepwise search to minimize aic\n",
      " ARIMA(1,0,1)(0,0,0)[0]             : AIC=6199.246, Time=0.08 sec\n",
      " ARIMA(0,0,0)(0,0,0)[0]             : AIC=6199.730, Time=0.01 sec\n",
      " ARIMA(1,0,0)(0,0,0)[0]             : AIC=6200.678, Time=0.02 sec\n",
      " ARIMA(0,0,1)(0,0,0)[0]             : AIC=6200.610, Time=0.03 sec\n",
      " ARIMA(2,0,1)(0,0,0)[0]             : AIC=6201.220, Time=0.14 sec\n",
      " ARIMA(1,0,2)(0,0,0)[0]             : AIC=6201.205, Time=0.15 sec\n",
      " ARIMA(0,0,2)(0,0,0)[0]             : AIC=6202.140, Time=0.03 sec\n",
      " ARIMA(2,0,0)(0,0,0)[0]             : AIC=6202.243, Time=0.03 sec\n",
      " ARIMA(2,0,2)(0,0,0)[0]             : AIC=6203.205, Time=0.21 sec\n",
      " ARIMA(1,0,1)(0,0,0)[0] intercept   : AIC=6200.760, Time=0.12 sec\n",
      "\n",
      "Best model:  ARIMA(1,0,1)(0,0,0)[0]          \n",
      "Total fit time: 0.810 seconds\n",
      "optimal order for:Close is: (1, 0, 1) \n",
      "\n",
      "\n"
     ]
    }
   ],
   "source": [
    "pq = []\n",
    "for name, column in di_train[['TAoYW', 'Close']].iteritems():\n",
    "    print(f'Searching order of p and q for : {name}')\n",
    "    super_env_model = auto_arima(di_train[name],start_p=1, start_q=1,max_p=7, max_q=7, seasonal=False,\n",
    "        trace=True,error_action='ignore',suppress_warnings=True, stepwise=True,maxiter=1000)\n",
    "    parameter = super_env_model.get_params().get('order')\n",
    "    print(f'optimal order for:{name} is: {parameter} \\n\\n')\n",
    "    pq.append(super_env_model.get_params().get('order'))"
   ]
  },
  {
   "cell_type": "code",
   "execution_count": 99,
   "id": "10fe6d57",
   "metadata": {},
   "outputs": [
    {
     "name": "stdout",
     "output_type": "stream",
     "text": [
      " Running for (0, 0, 1)\n",
      " Running for (1, 0, 1)\n"
     ]
    }
   ],
   "source": [
    "df_results_VARMA_2 = pd.DataFrame(columns=['p', 'q','RMSE TAoYW','RMSE Close'])\n",
    "\n",
    "for i in pq:\n",
    "    if i[0]== 0 and i[2] ==0:\n",
    "        pass\n",
    "    else:\n",
    "        print(f' Running for {i}')\n",
    "        model = VARMAX(di_train[['TAoYW', 'Close']], order=(i[0],i[2])).fit(disp=False)\n",
    "        result = model.forecast(steps = len(testX))\n",
    "        inv_res = inv_diferent_function(dfBC[['TAoYW', 'Close']], result)\n",
    "        Opensrmse = np.sqrt(metrics.mean_squared_error(testX['TAoYW'], inv_res.TAoYW_1st_inv_diff))\n",
    "        Highrmse = np.sqrt(metrics.mean_squared_error(testX['Close'], inv_res.Close_1st_inv_diff))\n",
    "        df_results_VARMA_2 = df_results_VARMA_2.append({'p': i[0], 'q': i[2], 'RMSE TAoYW':Opensrmse,\n",
    "                                                        'RMSE Close':Highrmse }, ignore_index=True)"
   ]
  },
  {
   "cell_type": "code",
   "execution_count": 100,
   "id": "f5f4c0d1",
   "metadata": {},
   "outputs": [
    {
     "data": {
      "text/html": [
       "<div>\n",
       "<style scoped>\n",
       "    .dataframe tbody tr th:only-of-type {\n",
       "        vertical-align: middle;\n",
       "    }\n",
       "\n",
       "    .dataframe tbody tr th {\n",
       "        vertical-align: top;\n",
       "    }\n",
       "\n",
       "    .dataframe thead th {\n",
       "        text-align: right;\n",
       "    }\n",
       "</style>\n",
       "<table border=\"1\" class=\"dataframe\">\n",
       "  <thead>\n",
       "    <tr style=\"text-align: right;\">\n",
       "      <th></th>\n",
       "      <th>p</th>\n",
       "      <th>q</th>\n",
       "      <th>RMSE TAoYW</th>\n",
       "      <th>RMSE Close</th>\n",
       "    </tr>\n",
       "  </thead>\n",
       "  <tbody>\n",
       "    <tr>\n",
       "      <th>0</th>\n",
       "      <td>0.0</td>\n",
       "      <td>1.0</td>\n",
       "      <td>101.600600</td>\n",
       "      <td>4132.163050</td>\n",
       "    </tr>\n",
       "    <tr>\n",
       "      <th>1</th>\n",
       "      <td>1.0</td>\n",
       "      <td>1.0</td>\n",
       "      <td>162.409832</td>\n",
       "      <td>3897.734031</td>\n",
       "    </tr>\n",
       "  </tbody>\n",
       "</table>\n",
       "</div>"
      ],
      "text/plain": [
       "     p    q  RMSE TAoYW   RMSE Close\n",
       "0  0.0  1.0  101.600600  4132.163050\n",
       "1  1.0  1.0  162.409832  3897.734031"
      ]
     },
     "execution_count": 100,
     "metadata": {},
     "output_type": "execute_result"
    }
   ],
   "source": [
    "df_results_VARMA_2.sort_values(by=['RMSE TAoYW', 'RMSE Close'])"
   ]
  },
  {
   "cell_type": "code",
   "execution_count": 101,
   "id": "2ed265db",
   "metadata": {},
   "outputs": [
    {
     "data": {
      "text/html": [
       "<div>\n",
       "<style scoped>\n",
       "    .dataframe tbody tr th:only-of-type {\n",
       "        vertical-align: middle;\n",
       "    }\n",
       "\n",
       "    .dataframe tbody tr th {\n",
       "        vertical-align: top;\n",
       "    }\n",
       "\n",
       "    .dataframe thead th {\n",
       "        text-align: right;\n",
       "    }\n",
       "</style>\n",
       "<table border=\"1\" class=\"dataframe\">\n",
       "  <thead>\n",
       "    <tr style=\"text-align: right;\">\n",
       "      <th></th>\n",
       "      <th>p</th>\n",
       "      <th>q</th>\n",
       "      <th>RMSE TAoYW</th>\n",
       "      <th>RMSE Close</th>\n",
       "    </tr>\n",
       "  </thead>\n",
       "  <tbody>\n",
       "    <tr>\n",
       "      <th>0</th>\n",
       "      <td>0.0</td>\n",
       "      <td>1.0</td>\n",
       "      <td>101.6006</td>\n",
       "      <td>4132.16305</td>\n",
       "    </tr>\n",
       "  </tbody>\n",
       "</table>\n",
       "</div>"
      ],
      "text/plain": [
       "     p    q  RMSE TAoYW  RMSE Close\n",
       "0  0.0  1.0    101.6006  4132.16305"
      ]
     },
     "execution_count": 101,
     "metadata": {},
     "output_type": "execute_result"
    }
   ],
   "source": [
    "best_values_VAR_2 = df_results_VARMA_2.sort_values(by=['RMSE TAoYW', 'RMSE Close' \n",
    "                                                       ]).head(1)\n",
    "best_values_VAR_2"
   ]
  },
  {
   "cell_type": "code",
   "execution_count": 102,
   "id": "7ee2f116",
   "metadata": {},
   "outputs": [
    {
     "name": "stdout",
     "output_type": "stream",
     "text": [
      "p_value_VARMA_2:  0.0\n",
      "q_value_VARMA_2:  1.0\n"
     ]
    }
   ],
   "source": [
    "p_value_VARMA_2 = best_values_VAR_2['p'].iloc[0]\n",
    "q_value_VARMA_2 = best_values_VAR_2['q'].iloc[0] \n",
    "\n",
    "print(\"p_value_VARMA_2: \", p_value_VARMA_2)\n",
    "print(\"q_value_VARMA_2: \", q_value_VARMA_2)"
   ]
  },
  {
   "cell_type": "code",
   "execution_count": 103,
   "id": "847775dd",
   "metadata": {},
   "outputs": [],
   "source": [
    "model = VARMAX(di_train[['TAoYW', 'Close']], \n",
    "               order=(int(p_value_VARMA_2),int(q_value_VARMA_2))).fit(disp=False)\n",
    "result = model.forecast(steps = len(testX))"
   ]
  },
  {
   "cell_type": "code",
   "execution_count": 104,
   "id": "63dfe606",
   "metadata": {},
   "outputs": [
    {
     "data": {
      "text/html": [
       "<div>\n",
       "<style scoped>\n",
       "    .dataframe tbody tr th:only-of-type {\n",
       "        vertical-align: middle;\n",
       "    }\n",
       "\n",
       "    .dataframe tbody tr th {\n",
       "        vertical-align: top;\n",
       "    }\n",
       "\n",
       "    .dataframe thead th {\n",
       "        text-align: right;\n",
       "    }\n",
       "</style>\n",
       "<table border=\"1\" class=\"dataframe\">\n",
       "  <thead>\n",
       "    <tr style=\"text-align: right;\">\n",
       "      <th></th>\n",
       "      <th>TAoYW</th>\n",
       "      <th>Close</th>\n",
       "      <th>TAoYW_1st_inv_diff</th>\n",
       "      <th>Close_1st_inv_diff</th>\n",
       "    </tr>\n",
       "  </thead>\n",
       "  <tbody>\n",
       "    <tr>\n",
       "      <th>334</th>\n",
       "      <td>112.545274</td>\n",
       "      <td>-12.468860</td>\n",
       "      <td>239.545274</td>\n",
       "      <td>321274.197806</td>\n",
       "    </tr>\n",
       "    <tr>\n",
       "      <th>335</th>\n",
       "      <td>0.528205</td>\n",
       "      <td>116.407137</td>\n",
       "      <td>240.073479</td>\n",
       "      <td>321390.604943</td>\n",
       "    </tr>\n",
       "    <tr>\n",
       "      <th>336</th>\n",
       "      <td>0.528205</td>\n",
       "      <td>116.407137</td>\n",
       "      <td>240.601683</td>\n",
       "      <td>321507.012080</td>\n",
       "    </tr>\n",
       "    <tr>\n",
       "      <th>337</th>\n",
       "      <td>0.528205</td>\n",
       "      <td>116.407137</td>\n",
       "      <td>241.129888</td>\n",
       "      <td>321623.419217</td>\n",
       "    </tr>\n",
       "    <tr>\n",
       "      <th>338</th>\n",
       "      <td>0.528205</td>\n",
       "      <td>116.407137</td>\n",
       "      <td>241.658092</td>\n",
       "      <td>321739.826354</td>\n",
       "    </tr>\n",
       "  </tbody>\n",
       "</table>\n",
       "</div>"
      ],
      "text/plain": [
       "          TAoYW       Close  TAoYW_1st_inv_diff  Close_1st_inv_diff\n",
       "334  112.545274  -12.468860          239.545274       321274.197806\n",
       "335    0.528205  116.407137          240.073479       321390.604943\n",
       "336    0.528205  116.407137          240.601683       321507.012080\n",
       "337    0.528205  116.407137          241.129888       321623.419217\n",
       "338    0.528205  116.407137          241.658092       321739.826354"
      ]
     },
     "execution_count": 104,
     "metadata": {},
     "output_type": "execute_result"
    }
   ],
   "source": [
    "res = inv_diferent_function(dfBC[['TAoYW', 'Close' ]],result)\n",
    "res.head()"
   ]
  },
  {
   "cell_type": "code",
   "execution_count": 105,
   "id": "366aebad",
   "metadata": {},
   "outputs": [
    {
     "name": "stdout",
     "output_type": "stream",
     "text": [
      "Evaluation metric for TAoYW\n",
      "MSE is : 10322.681961756429\n",
      "MAE is : 92.22088089501527\n",
      "RMSE is : 101.60060020372138\n",
      "MAPE is : 72.77821105566245\n",
      "R2 is : -4.6515157831355\n",
      "\n",
      "Evaluation metric for Close\n",
      "MSE is : 17074771.472258125\n",
      "MAE is : 3177.589928706621\n",
      "RMSE is : 4132.163050057213\n",
      "MAPE is : 0.9765759308077289\n",
      "R2 is : 0.17598607107897268\n",
      "\n"
     ]
    }
   ],
   "source": [
    "for i in ['TAoYW', 'Close']:\n",
    "    print(f'Evaluation metric for {i}')\n",
    "    multi_timeseries_ev_metrics_function(testX[str(i)] , res[str(i)+'_1st_inv_diff'])"
   ]
  },
  {
   "cell_type": "code",
   "execution_count": 106,
   "id": "ddea3fb8",
   "metadata": {},
   "outputs": [
    {
     "data": {
      "image/png": "[encoded data removed]",
      "text/plain": [
       "<Figure size 720x504 with 1 Axes>"
      ]
     },
     "metadata": {
      "needs_background": "light"
     },
     "output_type": "display_data"
    },
    {
     "data": {
      "image/png": "[encoded data removed]",
      "text/plain": [
       "<Figure size 720x504 with 1 Axes>"
      ]
     },
     "metadata": {
      "needs_background": "light"
     },
     "output_type": "display_data"
    }
   ],
   "source": [
    "for i in ['TAoYW', 'Close' ]:\n",
    "    \n",
    "    plt.rcParams[\"figure.figsize\"] = [10,7]\n",
    "    plt.plot(trainX[str(i)], label='Train '+str(i))\n",
    "    plt.plot(testX[str(i)], label='Test '+str(i))\n",
    "    plt.plot(res[str(i)+'_1st_inv_diff'], label='Predicted '+str(i))\n",
    "    plt.legend(loc='best')\n",
    "    plt.show()"
   ]
  },
  {
   "cell_type": "code",
   "execution_count": null,
   "id": "71cf4b71",
   "metadata": {},
   "outputs": [],
   "source": [
    "'''THE END'''"
   ]
  }
 ],
 "metadata": {
  "kernelspec": {
   "display_name": "Python 3 (ipykernel)",
   "language": "python",
   "name": "python3"
  },
  "language_info": {
   "codemirror_mode": {
    "name": "ipython",
    "version": 3
   },
   "file_extension": ".py",
   "mimetype": "text/x-python",
   "name": "python",
   "nbconvert_exporter": "python",
   "pygments_lexer": "ipython3",
   "version": "3.9.7"
  }
 },
 "nbformat": 4,
 "nbformat_minor": 5
}
