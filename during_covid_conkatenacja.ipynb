{
 "cells": [
  {
   "cell_type": "code",
   "execution_count": 61,
   "metadata": {},
   "outputs": [],
   "source": [
    "import pandas as pd\n",
    "from datetime import datetime\n",
    "import matplotlib.pyplot as plt\n",
    "from statsmodels.graphics.tsaplots import plot_acf, plot_pacf\n",
    "from statsmodels.tsa.api import VAR\n",
    "from scipy.stats import pearsonr"
   ]
  },
  {
   "cell_type": "code",
   "execution_count": 2,
   "metadata": {},
   "outputs": [],
   "source": [
    "during_covid=pd.read_csv('/home/dell/Kasia_IDDS/Twit/dane/BRK_A_2017-09-29_to_2022-04-01_added_missing_dates.csv')"
   ]
  },
  {
   "cell_type": "code",
   "execution_count": 3,
   "metadata": {},
   "outputs": [
    {
     "data": {
      "text/html": [
       "<div>\n",
       "<style scoped>\n",
       "    .dataframe tbody tr th:only-of-type {\n",
       "        vertical-align: middle;\n",
       "    }\n",
       "\n",
       "    .dataframe tbody tr th {\n",
       "        vertical-align: top;\n",
       "    }\n",
       "\n",
       "    .dataframe thead th {\n",
       "        text-align: right;\n",
       "    }\n",
       "</style>\n",
       "<table border=\"1\" class=\"dataframe\">\n",
       "  <thead>\n",
       "    <tr style=\"text-align: right;\">\n",
       "      <th></th>\n",
       "      <th>date</th>\n",
       "      <th>Open</th>\n",
       "      <th>High</th>\n",
       "      <th>Low</th>\n",
       "      <th>Close</th>\n",
       "      <th>Volume</th>\n",
       "    </tr>\n",
       "  </thead>\n",
       "  <tbody>\n",
       "    <tr>\n",
       "      <th>0</th>\n",
       "      <td>2018-03-29</td>\n",
       "      <td>296540.0</td>\n",
       "      <td>301518.0</td>\n",
       "      <td>296540.0</td>\n",
       "      <td>299100.0</td>\n",
       "      <td>3.0</td>\n",
       "    </tr>\n",
       "    <tr>\n",
       "      <th>1</th>\n",
       "      <td>2018-03-30</td>\n",
       "      <td>297060.0</td>\n",
       "      <td>300913.5</td>\n",
       "      <td>294590.0</td>\n",
       "      <td>297677.5</td>\n",
       "      <td>3.5</td>\n",
       "    </tr>\n",
       "    <tr>\n",
       "      <th>2</th>\n",
       "      <td>2018-03-31</td>\n",
       "      <td>297580.0</td>\n",
       "      <td>300309.0</td>\n",
       "      <td>292640.0</td>\n",
       "      <td>296255.0</td>\n",
       "      <td>4.0</td>\n",
       "    </tr>\n",
       "    <tr>\n",
       "      <th>3</th>\n",
       "      <td>2018-04-01</td>\n",
       "      <td>298100.0</td>\n",
       "      <td>299704.5</td>\n",
       "      <td>290690.0</td>\n",
       "      <td>294832.5</td>\n",
       "      <td>4.5</td>\n",
       "    </tr>\n",
       "    <tr>\n",
       "      <th>4</th>\n",
       "      <td>2018-04-02</td>\n",
       "      <td>298620.0</td>\n",
       "      <td>299100.0</td>\n",
       "      <td>288740.0</td>\n",
       "      <td>293410.0</td>\n",
       "      <td>5.0</td>\n",
       "    </tr>\n",
       "    <tr>\n",
       "      <th>...</th>\n",
       "      <td>...</td>\n",
       "      <td>...</td>\n",
       "      <td>...</td>\n",
       "      <td>...</td>\n",
       "      <td>...</td>\n",
       "      <td>...</td>\n",
       "    </tr>\n",
       "    <tr>\n",
       "      <th>1460</th>\n",
       "      <td>2022-03-28</td>\n",
       "      <td>540913.0</td>\n",
       "      <td>544000.0</td>\n",
       "      <td>533345.0</td>\n",
       "      <td>539180.0</td>\n",
       "      <td>38.0</td>\n",
       "    </tr>\n",
       "    <tr>\n",
       "      <th>1461</th>\n",
       "      <td>2022-03-29</td>\n",
       "      <td>544389.0</td>\n",
       "      <td>544389.0</td>\n",
       "      <td>528750.0</td>\n",
       "      <td>532011.0</td>\n",
       "      <td>37.0</td>\n",
       "    </tr>\n",
       "    <tr>\n",
       "      <th>1462</th>\n",
       "      <td>2022-03-30</td>\n",
       "      <td>531305.0</td>\n",
       "      <td>537371.0</td>\n",
       "      <td>527650.0</td>\n",
       "      <td>536440.0</td>\n",
       "      <td>23.0</td>\n",
       "    </tr>\n",
       "    <tr>\n",
       "      <th>1463</th>\n",
       "      <td>2022-03-31</td>\n",
       "      <td>538660.0</td>\n",
       "      <td>540420.0</td>\n",
       "      <td>528921.0</td>\n",
       "      <td>528921.0</td>\n",
       "      <td>23.0</td>\n",
       "    </tr>\n",
       "    <tr>\n",
       "      <th>1464</th>\n",
       "      <td>2022-04-01</td>\n",
       "      <td>530026.0</td>\n",
       "      <td>533139.0</td>\n",
       "      <td>523662.0</td>\n",
       "      <td>527760.0</td>\n",
       "      <td>26.0</td>\n",
       "    </tr>\n",
       "  </tbody>\n",
       "</table>\n",
       "<p>1465 rows × 6 columns</p>\n",
       "</div>"
      ],
      "text/plain": [
       "            date      Open      High       Low     Close  Volume\n",
       "0     2018-03-29  296540.0  301518.0  296540.0  299100.0     3.0\n",
       "1     2018-03-30  297060.0  300913.5  294590.0  297677.5     3.5\n",
       "2     2018-03-31  297580.0  300309.0  292640.0  296255.0     4.0\n",
       "3     2018-04-01  298100.0  299704.5  290690.0  294832.5     4.5\n",
       "4     2018-04-02  298620.0  299100.0  288740.0  293410.0     5.0\n",
       "...          ...       ...       ...       ...       ...     ...\n",
       "1460  2022-03-28  540913.0  544000.0  533345.0  539180.0    38.0\n",
       "1461  2022-03-29  544389.0  544389.0  528750.0  532011.0    37.0\n",
       "1462  2022-03-30  531305.0  537371.0  527650.0  536440.0    23.0\n",
       "1463  2022-03-31  538660.0  540420.0  528921.0  528921.0    23.0\n",
       "1464  2022-04-01  530026.0  533139.0  523662.0  527760.0    26.0\n",
       "\n",
       "[1465 rows x 6 columns]"
      ]
     },
     "execution_count": 3,
     "metadata": {},
     "output_type": "execute_result"
    }
   ],
   "source": [
    "during_covid"
   ]
  },
  {
   "cell_type": "code",
   "execution_count": 7,
   "metadata": {},
   "outputs": [
    {
     "name": "stdout",
     "output_type": "stream",
     "text": [
      "            date       Open           High            Low      Close  Volume\n",
      "1099  2021-04-01  387979.00  390984.000000  385702.000000  390360.00   15.00\n",
      "1100  2021-04-02  389159.25  392430.500000  387376.500000  391653.75   15.75\n",
      "1101  2021-04-03  390339.50  393877.000000  389051.000000  392947.50   16.50\n",
      "1102  2021-04-04  391519.75  395323.500000  390725.500000  394241.25   17.25\n",
      "1103  2021-04-05  392700.00  396770.000000  392400.000000  395535.00   18.00\n",
      "...          ...        ...            ...            ...        ...     ...\n",
      "1459  2022-03-27  537638.00  542316.333333  532223.666667  539103.00   34.00\n",
      "1460  2022-03-28  540913.00  544000.000000  533345.000000  539180.00   38.00\n",
      "1461  2022-03-29  544389.00  544389.000000  528750.000000  532011.00   37.00\n",
      "1462  2022-03-30  531305.00  537371.000000  527650.000000  536440.00   23.00\n",
      "1463  2022-03-31  538660.00  540420.000000  528921.000000  528921.00   23.00\n",
      "\n",
      "[365 rows x 6 columns]\n"
     ]
    }
   ],
   "source": [
    "start_date = \"2021-04-01\"\n",
    "end_date = \"2022-03-31\"\n",
    "\n",
    "after_start_date = during_covid[\"date\"] >=start_date\n",
    "before_end_date = during_covid[\"date\"] <= end_date\n",
    "between_two_dates = after_start_date & before_end_date\n",
    "filtered_dates = during_covid.loc[between_two_dates]\n",
    "print(filtered_dates)"
   ]
  },
  {
   "cell_type": "code",
   "execution_count": 12,
   "metadata": {},
   "outputs": [],
   "source": [
    "during_covid.to_csv('during_covid_stock.csv', index=False)"
   ]
  },
  {
   "cell_type": "code",
   "execution_count": 13,
   "metadata": {},
   "outputs": [
    {
     "name": "stdout",
     "output_type": "stream",
     "text": [
      "           date  SNFT  SNPT  SPFT  SPPT  SNeFT  SNPT  LNFT  LNPT  LPFT  LPPT  \\\n",
      "0    2021-04-01     1     0    14    21     34     0     3     4     3    18   \n",
      "1    2021-04-02     4     2    14     8     26     0     3     2    10     9   \n",
      "2    2021-04-03     2     0     8     6     18     0     2     1    12     6   \n",
      "3    2021-04-04     0     0     1    16     21     1     2     1     7    14   \n",
      "4    2021-04-05     1     1    25    19     52     0     5     0    11     7   \n",
      "..          ...   ...   ...   ...   ...    ...   ...   ...   ...   ...   ...   \n",
      "360  2022-03-27     4     3    14    59     25     1     4     3    20    14   \n",
      "361  2022-03-28     0     2    21    31     37     3     3     1    19    24   \n",
      "362  2022-03-29     3     2    19    23     40     1     3     0    23    22   \n",
      "363  2022-03-30     4     4    33    22     33     0     4     1    17    16   \n",
      "364  2022-03-31     0     3    31    25     48     0     6     5    17    17   \n",
      "\n",
      "     LNeFT  LNePT  TAoYW       Open           High            Low      Close  \\\n",
      "0        7      0    105  387979.00  390984.000000  385702.000000  390360.00   \n",
      "1        5      0     83  389159.25  392430.500000  387376.500000  391653.75   \n",
      "2        6      1     62  390339.50  393877.000000  389051.000000  392947.50   \n",
      "3        4      0     67  391519.75  395323.500000  390725.500000  394241.25   \n",
      "4        5      1    127  392700.00  396770.000000  392400.000000  395535.00   \n",
      "..     ...    ...    ...        ...            ...            ...        ...   \n",
      "360      3      1    151  537638.00  542316.333333  532223.666667  539103.00   \n",
      "361      6      0    147  540913.00  544000.000000  533345.000000  539180.00   \n",
      "362      3      2    141  544389.00  544389.000000  528750.000000  532011.00   \n",
      "363      8      0    142  531305.00  537371.000000  527650.000000  536440.00   \n",
      "364      8      1    161  538660.00  540420.000000  528921.000000  528921.00   \n",
      "\n",
      "     Volume  \n",
      "0     15.00  \n",
      "1     15.75  \n",
      "2     16.50  \n",
      "3     17.25  \n",
      "4     18.00  \n",
      "..      ...  \n",
      "360   34.00  \n",
      "361   38.00  \n",
      "362   37.00  \n",
      "363   23.00  \n",
      "364   23.00  \n",
      "\n",
      "[365 rows x 19 columns]\n"
     ]
    }
   ],
   "source": [
    "df1 = pd.read_csv('/home/dell/Kasia_IDDS/Twit/dane/BH_tweets_during_war_textanalysis.csv')\n",
    "df1.rename(columns ={'Short negative factual tweets':'SNFT','Short negative personal tweets':'SNPT','Short positive factual tweets':'SPFT'\n",
    "                     ,'Short positive personal tweets':'SPPT','Short neutral factual tweets':'SNeFT','Short neutral personal tweets':'SNPT',\n",
    "                     'Long negative factual tweets':'LNFT','Long negative personal tweets':'LNPT',\n",
    "                     'Long positive factual tweets':'LPFT','Long positive personal tweets':'LPPT',\n",
    "                     'Long neutral factual tweets':'LNeFT','Long neutral personal tweets':'LNePT',\n",
    "                     'Total amount of tweets':'TAoYW'\n",
    "                \n",
    "                    }, inplace = True)\n",
    "\n",
    "#print(df1)\n",
    "df2 = pd.read_csv('/home/dell/Kasia_IDDS/Kasia_data/during_covid_stock.csv')\n",
    "df2.rename(columns = {'Date':'date'}, inplace = True)\n",
    "\n",
    "\n",
    "#df_combined = pd.merge([df1,df2])\n",
    "df_combined2=pd.merge(df1, df2, how='inner', on='date')\n",
    "print(df_combined2)\n",
    "\n",
    "df_combined2.to_csv('/home/dell/Kasia_IDDS/Kasia_data/during_combined_covid.csv')"
   ]
  },
  {
   "cell_type": "code",
   "execution_count": 63,
   "metadata": {},
   "outputs": [],
   "source": [
    "from statsmodels.graphics.tsaplots import plot_acf, plot_pacf\n",
    "from statsmodels.tsa.statespace.varmax import VARMAX\n",
    "from statsmodels.tsa.api import VAR\n",
    "from statsmodels.tsa.stattools import grangercausalitytests, adfuller\n",
    "from tqdm import tqdm_notebook\n",
    "from itertools import product\n",
    "\n",
    "import matplotlib.pyplot as plt\n",
    "import statsmodels.api as sm\n",
    "import pandas as pd\n",
    "import numpy as np\n",
    "\n",
    "import warnings\n",
    "warnings.filterwarnings('ignore')"
   ]
  },
  {
   "cell_type": "code",
   "execution_count": 15,
   "metadata": {},
   "outputs": [
    {
     "name": "stdout",
     "output_type": "stream",
     "text": [
      "(365, 19)\n"
     ]
    },
    {
     "data": {
      "text/html": [
       "<div>\n",
       "<style scoped>\n",
       "    .dataframe tbody tr th:only-of-type {\n",
       "        vertical-align: middle;\n",
       "    }\n",
       "\n",
       "    .dataframe tbody tr th {\n",
       "        vertical-align: top;\n",
       "    }\n",
       "\n",
       "    .dataframe thead th {\n",
       "        text-align: right;\n",
       "    }\n",
       "</style>\n",
       "<table border=\"1\" class=\"dataframe\">\n",
       "  <thead>\n",
       "    <tr style=\"text-align: right;\">\n",
       "      <th></th>\n",
       "      <th>Unnamed: 0</th>\n",
       "      <th>SNFT</th>\n",
       "      <th>SNPT</th>\n",
       "      <th>SPFT</th>\n",
       "      <th>SPPT</th>\n",
       "      <th>SNeFT</th>\n",
       "      <th>SNPT.1</th>\n",
       "      <th>LNFT</th>\n",
       "      <th>LNPT</th>\n",
       "      <th>LPFT</th>\n",
       "      <th>LPPT</th>\n",
       "      <th>LNeFT</th>\n",
       "      <th>LNePT</th>\n",
       "      <th>TAoYW</th>\n",
       "      <th>Open</th>\n",
       "      <th>High</th>\n",
       "      <th>Low</th>\n",
       "      <th>Close</th>\n",
       "      <th>Volume</th>\n",
       "    </tr>\n",
       "    <tr>\n",
       "      <th>date</th>\n",
       "      <th></th>\n",
       "      <th></th>\n",
       "      <th></th>\n",
       "      <th></th>\n",
       "      <th></th>\n",
       "      <th></th>\n",
       "      <th></th>\n",
       "      <th></th>\n",
       "      <th></th>\n",
       "      <th></th>\n",
       "      <th></th>\n",
       "      <th></th>\n",
       "      <th></th>\n",
       "      <th></th>\n",
       "      <th></th>\n",
       "      <th></th>\n",
       "      <th></th>\n",
       "      <th></th>\n",
       "      <th></th>\n",
       "    </tr>\n",
       "  </thead>\n",
       "  <tbody>\n",
       "    <tr>\n",
       "      <th>2021-04-01</th>\n",
       "      <td>0</td>\n",
       "      <td>1</td>\n",
       "      <td>0</td>\n",
       "      <td>14</td>\n",
       "      <td>21</td>\n",
       "      <td>34</td>\n",
       "      <td>0</td>\n",
       "      <td>3</td>\n",
       "      <td>4</td>\n",
       "      <td>3</td>\n",
       "      <td>18</td>\n",
       "      <td>7</td>\n",
       "      <td>0</td>\n",
       "      <td>105</td>\n",
       "      <td>387979.00</td>\n",
       "      <td>390984.0</td>\n",
       "      <td>385702.0</td>\n",
       "      <td>390360.00</td>\n",
       "      <td>15.00</td>\n",
       "    </tr>\n",
       "    <tr>\n",
       "      <th>2021-04-02</th>\n",
       "      <td>1</td>\n",
       "      <td>4</td>\n",
       "      <td>2</td>\n",
       "      <td>14</td>\n",
       "      <td>8</td>\n",
       "      <td>26</td>\n",
       "      <td>0</td>\n",
       "      <td>3</td>\n",
       "      <td>2</td>\n",
       "      <td>10</td>\n",
       "      <td>9</td>\n",
       "      <td>5</td>\n",
       "      <td>0</td>\n",
       "      <td>83</td>\n",
       "      <td>389159.25</td>\n",
       "      <td>392430.5</td>\n",
       "      <td>387376.5</td>\n",
       "      <td>391653.75</td>\n",
       "      <td>15.75</td>\n",
       "    </tr>\n",
       "    <tr>\n",
       "      <th>2021-04-03</th>\n",
       "      <td>2</td>\n",
       "      <td>2</td>\n",
       "      <td>0</td>\n",
       "      <td>8</td>\n",
       "      <td>6</td>\n",
       "      <td>18</td>\n",
       "      <td>0</td>\n",
       "      <td>2</td>\n",
       "      <td>1</td>\n",
       "      <td>12</td>\n",
       "      <td>6</td>\n",
       "      <td>6</td>\n",
       "      <td>1</td>\n",
       "      <td>62</td>\n",
       "      <td>390339.50</td>\n",
       "      <td>393877.0</td>\n",
       "      <td>389051.0</td>\n",
       "      <td>392947.50</td>\n",
       "      <td>16.50</td>\n",
       "    </tr>\n",
       "    <tr>\n",
       "      <th>2021-04-04</th>\n",
       "      <td>3</td>\n",
       "      <td>0</td>\n",
       "      <td>0</td>\n",
       "      <td>1</td>\n",
       "      <td>16</td>\n",
       "      <td>21</td>\n",
       "      <td>1</td>\n",
       "      <td>2</td>\n",
       "      <td>1</td>\n",
       "      <td>7</td>\n",
       "      <td>14</td>\n",
       "      <td>4</td>\n",
       "      <td>0</td>\n",
       "      <td>67</td>\n",
       "      <td>391519.75</td>\n",
       "      <td>395323.5</td>\n",
       "      <td>390725.5</td>\n",
       "      <td>394241.25</td>\n",
       "      <td>17.25</td>\n",
       "    </tr>\n",
       "    <tr>\n",
       "      <th>2021-04-05</th>\n",
       "      <td>4</td>\n",
       "      <td>1</td>\n",
       "      <td>1</td>\n",
       "      <td>25</td>\n",
       "      <td>19</td>\n",
       "      <td>52</td>\n",
       "      <td>0</td>\n",
       "      <td>5</td>\n",
       "      <td>0</td>\n",
       "      <td>11</td>\n",
       "      <td>7</td>\n",
       "      <td>5</td>\n",
       "      <td>1</td>\n",
       "      <td>127</td>\n",
       "      <td>392700.00</td>\n",
       "      <td>396770.0</td>\n",
       "      <td>392400.0</td>\n",
       "      <td>395535.00</td>\n",
       "      <td>18.00</td>\n",
       "    </tr>\n",
       "  </tbody>\n",
       "</table>\n",
       "</div>"
      ],
      "text/plain": [
       "            Unnamed: 0  SNFT  SNPT  SPFT  SPPT  SNeFT  SNPT.1  LNFT  LNPT  \\\n",
       "date                                                                        \n",
       "2021-04-01           0     1     0    14    21     34       0     3     4   \n",
       "2021-04-02           1     4     2    14     8     26       0     3     2   \n",
       "2021-04-03           2     2     0     8     6     18       0     2     1   \n",
       "2021-04-04           3     0     0     1    16     21       1     2     1   \n",
       "2021-04-05           4     1     1    25    19     52       0     5     0   \n",
       "\n",
       "            LPFT  LPPT  LNeFT  LNePT  TAoYW       Open      High       Low  \\\n",
       "date                                                                         \n",
       "2021-04-01     3    18      7      0    105  387979.00  390984.0  385702.0   \n",
       "2021-04-02    10     9      5      0     83  389159.25  392430.5  387376.5   \n",
       "2021-04-03    12     6      6      1     62  390339.50  393877.0  389051.0   \n",
       "2021-04-04     7    14      4      0     67  391519.75  395323.5  390725.5   \n",
       "2021-04-05    11     7      5      1    127  392700.00  396770.0  392400.0   \n",
       "\n",
       "                Close  Volume  \n",
       "date                           \n",
       "2021-04-01  390360.00   15.00  \n",
       "2021-04-02  391653.75   15.75  \n",
       "2021-04-03  392947.50   16.50  \n",
       "2021-04-04  394241.25   17.25  \n",
       "2021-04-05  395535.00   18.00  "
      ]
     },
     "execution_count": 15,
     "metadata": {},
     "output_type": "execute_result"
    }
   ],
   "source": [
    "filepath = '/home/dell/Kasia_IDDS/Kasia_data/during_combined_covid.csv'\n",
    "macro_data = pd.read_csv(filepath, parse_dates=['date'], index_col='date')\n",
    "print(macro_data.shape)  \n",
    "macro_data.head()"
   ]
  },
  {
   "cell_type": "code",
   "execution_count": 23,
   "metadata": {},
   "outputs": [],
   "source": [
    "during_covid_two_v=macro_data[['TAoYW','Close']]"
   ]
  },
  {
   "cell_type": "code",
   "execution_count": 24,
   "metadata": {},
   "outputs": [
    {
     "data": {
      "text/html": [
       "<div>\n",
       "<style scoped>\n",
       "    .dataframe tbody tr th:only-of-type {\n",
       "        vertical-align: middle;\n",
       "    }\n",
       "\n",
       "    .dataframe tbody tr th {\n",
       "        vertical-align: top;\n",
       "    }\n",
       "\n",
       "    .dataframe thead th {\n",
       "        text-align: right;\n",
       "    }\n",
       "</style>\n",
       "<table border=\"1\" class=\"dataframe\">\n",
       "  <thead>\n",
       "    <tr style=\"text-align: right;\">\n",
       "      <th></th>\n",
       "      <th>TAoYW</th>\n",
       "      <th>Close</th>\n",
       "    </tr>\n",
       "    <tr>\n",
       "      <th>date</th>\n",
       "      <th></th>\n",
       "      <th></th>\n",
       "    </tr>\n",
       "  </thead>\n",
       "  <tbody>\n",
       "    <tr>\n",
       "      <th>2021-04-01</th>\n",
       "      <td>105</td>\n",
       "      <td>390360.00</td>\n",
       "    </tr>\n",
       "    <tr>\n",
       "      <th>2021-04-02</th>\n",
       "      <td>83</td>\n",
       "      <td>391653.75</td>\n",
       "    </tr>\n",
       "    <tr>\n",
       "      <th>2021-04-03</th>\n",
       "      <td>62</td>\n",
       "      <td>392947.50</td>\n",
       "    </tr>\n",
       "    <tr>\n",
       "      <th>2021-04-04</th>\n",
       "      <td>67</td>\n",
       "      <td>394241.25</td>\n",
       "    </tr>\n",
       "    <tr>\n",
       "      <th>2021-04-05</th>\n",
       "      <td>127</td>\n",
       "      <td>395535.00</td>\n",
       "    </tr>\n",
       "    <tr>\n",
       "      <th>...</th>\n",
       "      <td>...</td>\n",
       "      <td>...</td>\n",
       "    </tr>\n",
       "    <tr>\n",
       "      <th>2022-03-27</th>\n",
       "      <td>151</td>\n",
       "      <td>539103.00</td>\n",
       "    </tr>\n",
       "    <tr>\n",
       "      <th>2022-03-28</th>\n",
       "      <td>147</td>\n",
       "      <td>539180.00</td>\n",
       "    </tr>\n",
       "    <tr>\n",
       "      <th>2022-03-29</th>\n",
       "      <td>141</td>\n",
       "      <td>532011.00</td>\n",
       "    </tr>\n",
       "    <tr>\n",
       "      <th>2022-03-30</th>\n",
       "      <td>142</td>\n",
       "      <td>536440.00</td>\n",
       "    </tr>\n",
       "    <tr>\n",
       "      <th>2022-03-31</th>\n",
       "      <td>161</td>\n",
       "      <td>528921.00</td>\n",
       "    </tr>\n",
       "  </tbody>\n",
       "</table>\n",
       "<p>365 rows × 2 columns</p>\n",
       "</div>"
      ],
      "text/plain": [
       "            TAoYW      Close\n",
       "date                        \n",
       "2021-04-01    105  390360.00\n",
       "2021-04-02     83  391653.75\n",
       "2021-04-03     62  392947.50\n",
       "2021-04-04     67  394241.25\n",
       "2021-04-05    127  395535.00\n",
       "...           ...        ...\n",
       "2022-03-27    151  539103.00\n",
       "2022-03-28    147  539180.00\n",
       "2022-03-29    141  532011.00\n",
       "2022-03-30    142  536440.00\n",
       "2022-03-31    161  528921.00\n",
       "\n",
       "[365 rows x 2 columns]"
      ]
     },
     "execution_count": 24,
     "metadata": {},
     "output_type": "execute_result"
    }
   ],
   "source": [
    "during_covid_two_v"
   ]
  },
  {
   "cell_type": "code",
   "execution_count": 25,
   "metadata": {},
   "outputs": [],
   "source": [
    "during_covid_two_v.to_csv('during_combined_covid_short.csv')"
   ]
  },
  {
   "cell_type": "code",
   "execution_count": 27,
   "metadata": {},
   "outputs": [
    {
     "data": {
      "image/png": "[encoded data removed]",
      "text/plain": [
       "<Figure size 1200x720 with 2 Axes>"
      ]
     },
     "metadata": {
      "needs_background": "light"
     },
     "output_type": "display_data"
    }
   ],
   "source": [
    "fig, axes = plt.subplots(nrows=1, ncols=2, dpi=120, figsize=(10,6))\n",
    "for i, ax in enumerate(axes.flatten()):\n",
    "    data = during_covid_two_v[during_covid_two_v.columns[i]]\n",
    "    ax.plot(data, color='red', linewidth=1)\n",
    "    # Decorations\n",
    "    ax.set_title(during_covid_two_v.columns[i])\n",
    "    ax.xaxis.set_ticks_position('none')\n",
    "    ax.yaxis.set_ticks_position('none')\n",
    "    ax.spines[\"top\"].set_alpha(0)\n",
    "    ax.tick_params(labelsize=6)\n",
    "\n",
    "plt.tight_layout();"
   ]
  },
  {
   "cell_type": "code",
   "execution_count": 29,
   "metadata": {},
   "outputs": [
    {
     "name": "stdout",
     "output_type": "stream",
     "text": [
      "TAoYW\n",
      "ADF Statistic: -6.621195160360844\n",
      "p-value: 6.0310956711192034e-09\n",
      "\n",
      "---------------------\n",
      "\n",
      "Close\n",
      "ADF Statistic: 0.3014215355456125\n",
      "p-value: 0.9774096116589592\n"
     ]
    }
   ],
   "source": [
    "ad_fuller_result_1 = adfuller(macro_data['TAoYW'])#.diff()[1:])\n",
    "\n",
    "print('TAoYW')\n",
    "print(f'ADF Statistic: {ad_fuller_result_1[0]}')\n",
    "print(f'p-value: {ad_fuller_result_1[1]}')\n",
    "\n",
    "print('\\n---------------------\\n')\n",
    "\n",
    "ad_fuller_result_2 = adfuller(macro_data['Close'])#.diff()[1:])\n",
    "\n",
    "print('Close')\n",
    "print(f'ADF Statistic: {ad_fuller_result_2[0]}')\n",
    "print(f'p-value: {ad_fuller_result_2[1]}')"
   ]
  },
  {
   "cell_type": "code",
   "execution_count": 31,
   "metadata": {},
   "outputs": [
    {
     "name": "stdout",
     "output_type": "stream",
     "text": [
      "TAoYW\n",
      "ADF Statistic: -6.621195160360844\n",
      "p-value: 6.0310956711192034e-09\n",
      "\n",
      "---------------------\n",
      "\n",
      "Close\n",
      "ADF Statistic: -19.279517182676454\n",
      "p-value: 0.0\n"
     ]
    }
   ],
   "source": [
    "ad_fuller_result_1 = adfuller(macro_data['TAoYW'])#.diff()[1:])\n",
    "\n",
    "print('TAoYW')\n",
    "print(f'ADF Statistic: {ad_fuller_result_1[0]}')\n",
    "print(f'p-value: {ad_fuller_result_1[1]}')\n",
    "\n",
    "print('\\n---------------------\\n')\n",
    "\n",
    "ad_fuller_result_2 = adfuller(macro_data['Close'].diff()[1:])\n",
    "\n",
    "print('Close')\n",
    "print(f'ADF Statistic: {ad_fuller_result_2[0]}')\n",
    "print(f'p-value: {ad_fuller_result_2[1]}')"
   ]
  },
  {
   "cell_type": "code",
   "execution_count": 37,
   "metadata": {},
   "outputs": [
    {
     "name": "stdout",
     "output_type": "stream",
     "text": [
      "TAoYW causes Close?\n",
      "\n",
      "------------------\n",
      "\n",
      "Granger Causality\n",
      "number of lags (no zero) 1\n",
      "ssr based F test:         F=0.7972  , p=0.3725  , df_denom=361, df_num=1\n",
      "ssr based chi2 test:   chi2=0.8039  , p=0.3699  , df=1\n",
      "likelihood ratio test: chi2=0.8030  , p=0.3702  , df=1\n",
      "parameter F test:         F=0.7972  , p=0.3725  , df_denom=361, df_num=1\n",
      "\n",
      "Granger Causality\n",
      "number of lags (no zero) 2\n",
      "ssr based F test:         F=0.8258  , p=0.4387  , df_denom=358, df_num=2\n",
      "ssr based chi2 test:   chi2=1.6746  , p=0.4329  , df=2\n",
      "likelihood ratio test: chi2=1.6707  , p=0.4337  , df=2\n",
      "parameter F test:         F=0.8258  , p=0.4387  , df_denom=358, df_num=2\n",
      "\n",
      "Granger Causality\n",
      "number of lags (no zero) 3\n",
      "ssr based F test:         F=3.4808  , p=0.0161  , df_denom=355, df_num=3\n",
      "ssr based chi2 test:   chi2=10.6482 , p=0.0138  , df=3\n",
      "likelihood ratio test: chi2=10.4946 , p=0.0148  , df=3\n",
      "parameter F test:         F=3.4808  , p=0.0161  , df_denom=355, df_num=3\n",
      "\n",
      "Granger Causality\n",
      "number of lags (no zero) 4\n",
      "ssr based F test:         F=3.4759  , p=0.0084  , df_denom=352, df_num=4\n",
      "ssr based chi2 test:   chi2=14.2590 , p=0.0065  , df=4\n",
      "likelihood ratio test: chi2=13.9846 , p=0.0073  , df=4\n",
      "parameter F test:         F=3.4759  , p=0.0084  , df_denom=352, df_num=4\n",
      "\\Close causes TAoYW ?\n",
      "\n",
      "------------------\n",
      "\n",
      "Granger Causality\n",
      "number of lags (no zero) 1\n",
      "ssr based F test:         F=2.8739  , p=0.0909  , df_denom=361, df_num=1\n",
      "ssr based chi2 test:   chi2=2.8977  , p=0.0887  , df=1\n",
      "likelihood ratio test: chi2=2.8863  , p=0.0893  , df=1\n",
      "parameter F test:         F=2.8739  , p=0.0909  , df_denom=361, df_num=1\n",
      "\n",
      "Granger Causality\n",
      "number of lags (no zero) 2\n",
      "ssr based F test:         F=2.2078  , p=0.1114  , df_denom=358, df_num=2\n",
      "ssr based chi2 test:   chi2=4.4772  , p=0.1066  , df=2\n",
      "likelihood ratio test: chi2=4.4498  , p=0.1081  , df=2\n",
      "parameter F test:         F=2.2078  , p=0.1114  , df_denom=358, df_num=2\n",
      "\n",
      "Granger Causality\n",
      "number of lags (no zero) 3\n",
      "ssr based F test:         F=1.8820  , p=0.1322  , df_denom=355, df_num=3\n",
      "ssr based chi2 test:   chi2=5.7573  , p=0.1240  , df=3\n",
      "likelihood ratio test: chi2=5.7120  , p=0.1265  , df=3\n",
      "parameter F test:         F=1.8820  , p=0.1322  , df_denom=355, df_num=3\n",
      "\n",
      "Granger Causality\n",
      "number of lags (no zero) 4\n",
      "ssr based F test:         F=2.3784  , p=0.0515  , df_denom=352, df_num=4\n",
      "ssr based chi2 test:   chi2=9.7568  , p=0.0447  , df=4\n",
      "likelihood ratio test: chi2=9.6273  , p=0.0472  , df=4\n",
      "parameter F test:         F=2.3784  , p=0.0515  , df_denom=352, df_num=4\n"
     ]
    }
   ],
   "source": [
    "print('TAoYW causes Close?\\n')\n",
    "print('------------------')\n",
    "granger_1 = grangercausalitytests(macro_data[['Close','TAoYW']], 4)\n",
    "\n",
    "print('\\Close causes TAoYW ?\\n')\n",
    "print('------------------')\n",
    "granger_2 = grangercausalitytests(macro_data[[ 'TAoYW','Close']], 4)"
   ]
  },
  {
   "cell_type": "code",
   "execution_count": 38,
   "metadata": {},
   "outputs": [
    {
     "name": "stdout",
     "output_type": "stream",
     "text": [
      "(365, 2)\n"
     ]
    }
   ],
   "source": [
    "macro_data = macro_data[['TAoYW','Close']]\n",
    "print(macro_data.shape)"
   ]
  },
  {
   "cell_type": "code",
   "execution_count": 39,
   "metadata": {},
   "outputs": [],
   "source": [
    "train_df=macro_data[:-12]\n",
    "test_df=macro_data[-12:]"
   ]
  },
  {
   "cell_type": "code",
   "execution_count": 40,
   "metadata": {},
   "outputs": [
    {
     "name": "stdout",
     "output_type": "stream",
     "text": [
      "(12, 2)\n"
     ]
    }
   ],
   "source": [
    "print(test_df.shape)"
   ]
  },
  {
   "cell_type": "code",
   "execution_count": 41,
   "metadata": {},
   "outputs": [],
   "source": [
    "model = VAR(train_df.diff()[1:])"
   ]
  },
  {
   "cell_type": "code",
   "execution_count": 42,
   "metadata": {},
   "outputs": [
    {
     "name": "stdout",
     "output_type": "stream",
     "text": [
      " VAR Order Selection (* highlights the minimums)  \n",
      "==================================================\n",
      "       AIC         BIC         FPE         HQIC   \n",
      "--------------------------------------------------\n",
      "0        25.20      25.23*   8.830e+10       25.21\n",
      "1        25.18       25.25   8.653e+10      25.21*\n",
      "2        25.20       25.31   8.773e+10       25.24\n",
      "3        25.17       25.33   8.521e+10       25.23\n",
      "4        25.14       25.35   8.275e+10       25.22\n",
      "5        25.14       25.39   8.242e+10       25.24\n",
      "6        25.14       25.44   8.283e+10       25.26\n",
      "7        25.14       25.49   8.304e+10       25.28\n",
      "8        25.13       25.52   8.201e+10       25.29\n",
      "9        25.13       25.57   8.242e+10       25.31\n",
      "10      25.13*       25.61  8.166e+10*       25.32\n",
      "11       25.14       25.67   8.328e+10       25.36\n",
      "12       25.15       25.73   8.400e+10       25.38\n",
      "13       25.14       25.76   8.294e+10       25.39\n",
      "14       25.16       25.82   8.421e+10       25.42\n",
      "15       25.17       25.88   8.529e+10       25.45\n",
      "16       25.18       25.94   8.636e+10       25.48\n",
      "17       25.19       25.99   8.744e+10       25.51\n",
      "18       25.21       26.06   8.892e+10       25.55\n",
      "19       25.23       26.12   9.066e+10       25.58\n",
      "20       25.24       26.18   9.166e+10       25.61\n",
      "--------------------------------------------------\n"
     ]
    }
   ],
   "source": [
    "sorted_order=model.select_order(maxlags=20)\n",
    "print(sorted_order.summary())"
   ]
  },
  {
   "cell_type": "code",
   "execution_count": 45,
   "metadata": {},
   "outputs": [
    {
     "name": "stdout",
     "output_type": "stream",
     "text": [
      "                           Statespace Model Results                           \n",
      "==============================================================================\n",
      "Dep. Variable:     ['TAoYW', 'Close']   No. Observations:                  353\n",
      "Model:                        VAR(10)   Log Likelihood              -13099.281\n",
      "                          + intercept   AIC                          26288.562\n",
      "Date:                Mon, 18 Apr 2022   BIC                          26462.553\n",
      "Time:                        12:30:07   HQIC                         26357.794\n",
      "Sample:                    04-01-2021                                         \n",
      "                         - 03-19-2022                                         \n",
      "Covariance Type:                  opg                                         \n",
      "===================================================================================\n",
      "Ljung-Box (L1) (Q):         106.43, 334.37   Jarque-Bera (JB):      19425.96, 50.45\n",
      "Prob(Q):                        0.00, 0.00   Prob(JB):                   0.00, 0.00\n",
      "Heteroskedasticity (H):         0.40, 2.33   Skew:                       4.91, 0.93\n",
      "Prob(H) (two-sided):            0.00, 0.00   Kurtosis:                  37.99, 3.01\n",
      "                          Results for equation TAoYW                          \n",
      "==============================================================================\n",
      "                 coef    std err          z      P>|z|      [0.025      0.975]\n",
      "------------------------------------------------------------------------------\n",
      "intercept    133.7706     11.163     11.984      0.000     111.892     155.649\n",
      "L1.TAoYW       0.1833      0.040      4.599      0.000       0.105       0.261\n",
      "L1.Close      -0.0016      0.001     -1.718      0.086      -0.004       0.000\n",
      "L2.TAoYW       0.1408      0.041      3.426      0.001       0.060       0.221\n",
      "L2.Close      -0.0006      0.002     -0.339      0.734      -0.004       0.003\n",
      "L3.TAoYW       0.0319      0.092      0.349      0.727      -0.147       0.211\n",
      "L3.Close      -0.0004      0.002     -0.176      0.860      -0.005       0.004\n",
      "L4.TAoYW       0.0115      0.113      0.102      0.919      -0.209       0.232\n",
      "L4.Close      -0.0001      0.002     -0.057      0.954      -0.005       0.004\n",
      "L5.TAoYW       0.0164      0.118      0.139      0.890      -0.215       0.248\n",
      "L5.Close    -1.57e-05      0.003     -0.006      0.995      -0.005       0.005\n",
      "L6.TAoYW       0.0192      0.092      0.208      0.836      -0.162       0.200\n",
      "L6.Close       0.0003      0.003      0.119      0.905      -0.005       0.006\n",
      "L7.TAoYW       0.0345      0.083      0.418      0.676      -0.127       0.196\n",
      "L7.Close       0.0008      0.003      0.286      0.775      -0.005       0.006\n",
      "L8.TAoYW       0.0263      0.090      0.293      0.769      -0.150       0.202\n",
      "L8.Close       0.0014      0.002      0.619      0.536      -0.003       0.006\n",
      "L9.TAoYW       0.0550      0.088      0.623      0.533      -0.118       0.228\n",
      "L9.Close       0.0006      0.002      0.306      0.759      -0.003       0.004\n",
      "L10.TAoYW      0.0815      0.055      1.477      0.140      -0.027       0.190\n",
      "L10.Close     -0.0006      0.001     -0.403      0.687      -0.003       0.002\n",
      "                          Results for equation Close                          \n",
      "==============================================================================\n",
      "                 coef    std err          z      P>|z|      [0.025      0.975]\n",
      "------------------------------------------------------------------------------\n",
      "intercept   4.364e+05      3.567   1.22e+05      0.000    4.36e+05    4.36e+05\n",
      "L1.TAoYW      14.2693      0.565     25.270      0.000      13.163      15.376\n",
      "L1.Close       0.2318      0.009     26.655      0.000       0.215       0.249\n",
      "L2.TAoYW      12.8314      0.580     22.115      0.000      11.694      13.969\n",
      "L2.Close       0.2562      0.011     22.327      0.000       0.234       0.279\n",
      "L3.TAoYW       5.9328      0.836      7.095      0.000       4.294       7.572\n",
      "L3.Close       0.0454      0.014      3.166      0.002       0.017       0.073\n",
      "L4.TAoYW       4.9511      0.667      7.418      0.000       3.643       6.259\n",
      "L4.Close      -0.0928      0.015     -6.147      0.000      -0.122      -0.063\n",
      "L5.TAoYW       4.0210      0.627      6.417      0.000       2.793       5.249\n",
      "L5.Close      -0.1450      0.016     -9.343      0.000      -0.175      -0.115\n",
      "L6.TAoYW       2.5330      0.517      4.900      0.000       1.520       3.546\n",
      "L6.Close      -0.0853      0.014     -6.270      0.000      -0.112      -0.059\n",
      "L7.TAoYW       3.4502      0.491      7.022      0.000       2.487       4.413\n",
      "L7.Close       0.0239      0.013      1.837      0.066      -0.002       0.049\n",
      "L8.TAoYW       1.7464      0.468      3.731      0.000       0.829       2.664\n",
      "L8.Close       0.0997      0.012      8.179      0.000       0.076       0.124\n",
      "L9.TAoYW       1.9390      0.447      4.343      0.000       1.064       2.814\n",
      "L9.Close      -0.0272      0.013     -2.154      0.031      -0.052      -0.002\n",
      "L10.TAoYW      7.4688      0.422     17.711      0.000       6.642       8.295\n",
      "L10.Close     -0.3221      0.010    -32.619      0.000      -0.341      -0.303\n",
      "                                Error covariance matrix                                 \n",
      "========================================================================================\n",
      "                           coef    std err          z      P>|z|      [0.025      0.975]\n",
      "----------------------------------------------------------------------------------------\n",
      "sqrt.var.TAoYW          76.0259      1.969     38.620      0.000      72.168      79.884\n",
      "sqrt.cov.TAoYW.Close   352.7428     36.994      9.535      0.000     280.237     425.249\n",
      "sqrt.var.Close        3421.7235      3.622    944.768      0.000    3414.625    3428.822\n",
      "========================================================================================\n",
      "\n",
      "Warnings:\n",
      "[1] Covariance matrix calculated using the outer product of gradients (complex-step).\n",
      "[2] Covariance matrix is singular or near-singular, with condition number 1.25e+17. Standard errors may be unstable.\n"
     ]
    }
   ],
   "source": [
    "var_model = VARMAX(train_df, order=(10,0),enforce_stationarity= True)\n",
    "fitted_model = var_model.fit(disp=False)\n",
    "print(fitted_model.summary())"
   ]
  },
  {
   "cell_type": "code",
   "execution_count": 46,
   "metadata": {},
   "outputs": [],
   "source": [
    "n_forecast = 12\n",
    "predict = fitted_model.get_prediction(start=len(train_df),end=len(train_df) + n_forecast-1)\n",
    "\n",
    "predictions=predict.predicted_mean"
   ]
  },
  {
   "cell_type": "code",
   "execution_count": 51,
   "metadata": {},
   "outputs": [
    {
     "data": {
      "text/html": [
       "<div>\n",
       "<style scoped>\n",
       "    .dataframe tbody tr th:only-of-type {\n",
       "        vertical-align: middle;\n",
       "    }\n",
       "\n",
       "    .dataframe tbody tr th {\n",
       "        vertical-align: top;\n",
       "    }\n",
       "\n",
       "    .dataframe thead th {\n",
       "        text-align: right;\n",
       "    }\n",
       "</style>\n",
       "<table border=\"1\" class=\"dataframe\">\n",
       "  <thead>\n",
       "    <tr style=\"text-align: right;\">\n",
       "      <th></th>\n",
       "      <th>TAoYW_predict</th>\n",
       "      <th>Close_predict</th>\n",
       "    </tr>\n",
       "  </thead>\n",
       "  <tbody>\n",
       "    <tr>\n",
       "      <th>2022-03-20</th>\n",
       "      <td>81.260565</td>\n",
       "      <td>452139.687243</td>\n",
       "    </tr>\n",
       "    <tr>\n",
       "      <th>2022-03-21</th>\n",
       "      <td>170.812501</td>\n",
       "      <td>433241.470565</td>\n",
       "    </tr>\n",
       "    <tr>\n",
       "      <th>2022-03-22</th>\n",
       "      <td>255.165302</td>\n",
       "      <td>410400.117114</td>\n",
       "    </tr>\n",
       "    <tr>\n",
       "      <th>2022-03-23</th>\n",
       "      <td>369.770261</td>\n",
       "      <td>397604.364615</td>\n",
       "    </tr>\n",
       "    <tr>\n",
       "      <th>2022-03-24</th>\n",
       "      <td>484.373974</td>\n",
       "      <td>397598.505734</td>\n",
       "    </tr>\n",
       "    <tr>\n",
       "      <th>2022-03-25</th>\n",
       "      <td>563.411186</td>\n",
       "      <td>407548.540295</td>\n",
       "    </tr>\n",
       "    <tr>\n",
       "      <th>2022-03-26</th>\n",
       "      <td>570.882873</td>\n",
       "      <td>420434.304309</td>\n",
       "    </tr>\n",
       "    <tr>\n",
       "      <th>2022-03-27</th>\n",
       "      <td>503.954619</td>\n",
       "      <td>430028.698020</td>\n",
       "    </tr>\n",
       "    <tr>\n",
       "      <th>2022-03-28</th>\n",
       "      <td>344.253483</td>\n",
       "      <td>433818.125853</td>\n",
       "    </tr>\n",
       "    <tr>\n",
       "      <th>2022-03-29</th>\n",
       "      <td>197.917222</td>\n",
       "      <td>433679.425789</td>\n",
       "    </tr>\n",
       "    <tr>\n",
       "      <th>2022-03-30</th>\n",
       "      <td>133.033354</td>\n",
       "      <td>447732.282775</td>\n",
       "    </tr>\n",
       "    <tr>\n",
       "      <th>2022-03-31</th>\n",
       "      <td>71.251533</td>\n",
       "      <td>450528.380850</td>\n",
       "    </tr>\n",
       "  </tbody>\n",
       "</table>\n",
       "</div>"
      ],
      "text/plain": [
       "            TAoYW_predict  Close_predict\n",
       "2022-03-20      81.260565  452139.687243\n",
       "2022-03-21     170.812501  433241.470565\n",
       "2022-03-22     255.165302  410400.117114\n",
       "2022-03-23     369.770261  397604.364615\n",
       "2022-03-24     484.373974  397598.505734\n",
       "2022-03-25     563.411186  407548.540295\n",
       "2022-03-26     570.882873  420434.304309\n",
       "2022-03-27     503.954619  430028.698020\n",
       "2022-03-28     344.253483  433818.125853\n",
       "2022-03-29     197.917222  433679.425789\n",
       "2022-03-30     133.033354  447732.282775\n",
       "2022-03-31      71.251533  450528.380850"
      ]
     },
     "execution_count": 51,
     "metadata": {},
     "output_type": "execute_result"
    }
   ],
   "source": [
    "predictions.columns=['TAoYW_predict','Close_predict']\n",
    "predictions"
   ]
  },
  {
   "cell_type": "code",
   "execution_count": 52,
   "metadata": {},
   "outputs": [],
   "source": [
    "test_vs_pred=pd.concat([test_df,predictions],axis=1)"
   ]
  },
  {
   "cell_type": "code",
   "execution_count": 53,
   "metadata": {},
   "outputs": [
    {
     "data": {
      "text/plain": [
       "<AxesSubplot:>"
      ]
     },
     "execution_count": 53,
     "metadata": {},
     "output_type": "execute_result"
    },
    {
     "data": {
      "image/png": "[encoded data removed]",
      "text/plain": [
       "<Figure size 864x360 with 1 Axes>"
      ]
     },
     "metadata": {
      "needs_background": "light"
     },
     "output_type": "display_data"
    }
   ],
   "source": [
    "test_vs_pred.plot(figsize=(12,5))"
   ]
  },
  {
   "cell_type": "code",
   "execution_count": 55,
   "metadata": {},
   "outputs": [
    {
     "name": "stdout",
     "output_type": "stream",
     "text": [
      "Mean value of TAoYW is : 214.41666666666666. Root Mean Squared Error is :297.82830013830625\n",
      "Mean value of ULC is : 531339.9166666666. Root Mean Squared Error is :106903.63480875628\n"
     ]
    }
   ],
   "source": [
    "from sklearn.metrics import mean_squared_error\n",
    "import math \n",
    "from statistics import mean\n",
    "\n",
    "rmse_ulc=math.sqrt(mean_squared_error(predictions['TAoYW_predict'],test_df['TAoYW']))\n",
    "print('Mean value of TAoYW is : {}. Root Mean Squared Error is :{}'.format(mean(test_df['TAoYW']),rmse_ulc))\n",
    "\n",
    "rmse_rgnp=math.sqrt(mean_squared_error(predictions['Close_predict'],test_df['Close']))\n",
    "print('Mean value of Close is : {}. Root Mean Squared Error is :{}'.format(mean(test_df['Close']),rmse_rgnp))"
   ]
  },
  {
   "cell_type": "code",
   "execution_count": 57,
   "metadata": {},
   "outputs": [],
   "source": [
    "macro_data = macro_data.asfreq(pd.infer_freq(macro_data.index))"
   ]
  },
  {
   "cell_type": "code",
   "execution_count": 72,
   "metadata": {},
   "outputs": [
    {
     "data": {
      "text/plain": [
       "<matplotlib.legend.Legend at 0x7fcf92824ca0>"
      ]
     },
     "execution_count": 72,
     "metadata": {},
     "output_type": "execute_result"
    },
    {
     "data": {
      "image/png": "[encoded data removed]",
      "text/plain": [
       "<Figure size 864x432 with 1 Axes>"
      ]
     },
     "metadata": {
      "needs_background": "light"
     },
     "output_type": "display_data"
    }
   ],
   "source": [
    "plt.figure(figsize=(12,6))\n",
    "tweet = plt.plot(macro_data['TAoYW'])\n",
    "close, = plt.plot(macro_data['Close'], color='red')\n",
    "\n",
    "for year in range(2021, 2022):\n",
    "    plt.axvline(datetime(year,1,1), linestyle='--', color='k', alpha=0.5)\n",
    "\n",
    "plt.legend(['TaoYW', 'Close'], fontsize=16)"
   ]
  },
  {
   "cell_type": "code",
   "execution_count": 69,
   "metadata": {},
   "outputs": [
    {
     "name": "stdout",
     "output_type": "stream",
     "text": [
      "               TAoYW     Close\n",
      "date                          \n",
      "2021-04-01  0.060606  0.000000\n",
      "2021-04-02  0.040404  0.008693\n",
      "2021-04-03  0.021120  0.017387\n",
      "2021-04-04  0.025712  0.026080\n",
      "2021-04-05  0.080808  0.034774\n",
      "...              ...       ...\n",
      "2022-03-27  0.102847  0.999483\n",
      "2022-03-28  0.099174  1.000000\n",
      "2022-03-29  0.093664  0.951828\n",
      "2022-03-30  0.094582  0.981588\n",
      "2022-03-31  0.112029  0.931064\n",
      "\n",
      "[365 rows x 2 columns]\n"
     ]
    }
   ],
   "source": [
    "# example of a normalization\n",
    "from numpy import asarray\n",
    "from sklearn.preprocessing import MinMaxScaler\n",
    "# define min max scaler\n",
    "scaler = MinMaxScaler()\n",
    "# transform data\n",
    "scaled = scaler.fit_transform(macro_data)\n",
    "#print(scaled)\n",
    "normData = pd.DataFrame(scaler.transform(macro_data), index=macro_data.index, columns=macro_data.columns)\n",
    "print(normData)"
   ]
  },
  {
   "cell_type": "code",
   "execution_count": 70,
   "metadata": {},
   "outputs": [
    {
     "data": {
      "text/plain": [
       "<matplotlib.legend.Legend at 0x7fcf8bca3c70>"
      ]
     },
     "execution_count": 70,
     "metadata": {},
     "output_type": "execute_result"
    },
    {
     "data": {
      "image/png": "[encoded data removed]",
      "text/plain": [
       "<Figure size 864x432 with 1 Axes>"
      ]
     },
     "metadata": {
      "needs_background": "light"
     },
     "output_type": "display_data"
    }
   ],
   "source": [
    "plt.figure(figsize=(12,6))\n",
    "tweet = plt.plot(normData['TAoYW'])\n",
    "close, = plt.plot(normData['Close'], color='indigo')\n",
    "\n",
    "for year in range(2021, 2022):\n",
    "    plt.axvline(datetime(year,1,1), linestyle='--', color='k', alpha=0.5)\n",
    "\n",
    "plt.legend(['TaoYW', 'Close'], fontsize=16)"
   ]
  },
  {
   "cell_type": "code",
   "execution_count": null,
   "metadata": {},
   "outputs": [],
   "source": []
  }
 ],
 "metadata": {
  "kernelspec": {
   "display_name": "Python 3",
   "language": "python",
   "name": "python3"
  },
  "language_info": {
   "codemirror_mode": {
    "name": "ipython",
    "version": 3
   },
   "file_extension": ".py",
   "mimetype": "text/x-python",
   "name": "python",
   "nbconvert_exporter": "python",
   "pygments_lexer": "ipython3",
   "version": "3.6.10"
  }
 },
 "nbformat": 4,
 "nbformat_minor": 5
}
